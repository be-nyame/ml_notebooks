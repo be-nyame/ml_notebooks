{
 "cells": [
  {
   "cell_type": "code",
   "execution_count": 1,
   "metadata": {},
   "outputs": [
    {
     "name": "stderr",
     "output_type": "stream",
     "text": [
      "E:\\Anaconda3\\lib\\site-packages\\h5py\\__init__.py:34: FutureWarning: Conversion of the second argument of issubdtype from `float` to `np.floating` is deprecated. In future, it will be treated as `np.float64 == np.dtype(float).type`.\n",
      "  from ._conv import register_converters as _register_converters\n"
     ]
    }
   ],
   "source": [
    "# loading libraries\n",
    "import numpy as np\n",
    "import matplotlib.pyplot as plt   \n",
    "import tensorflow as tf\n",
    "import collections \n",
    "import os\n",
    "import string\n",
    "from nltk.corpus import stopwords\n",
    "from nltk.stem import WordNetLemmatizer"
   ]
  },
  {
   "cell_type": "code",
   "execution_count": 2,
   "metadata": {
    "collapsed": true
   },
   "outputs": [],
   "source": [
    "# loading data\n",
    "def load_data(file):\n",
    "    with open(file, 'r') as f:\n",
    "        texts = f.read()\n",
    "    return texts\n",
    "data_dir = 'textsets' \n",
    "data_file = 'shakespeare.txt'\n",
    "file = os.path.join(data_dir, data_file)\n",
    "data = load_data(file)"
   ]
  },
  {
   "cell_type": "code",
   "execution_count": 3,
   "metadata": {},
   "outputs": [
    {
     "data": {
      "text/plain": [
       "\"From fairest creatures we desire increase,  That thereby beauty's rose might never die,  But as the riper should by time decease,  His tender heir might bear his memory:  But thou contracted to thine \""
      ]
     },
     "execution_count": 3,
     "metadata": {},
     "output_type": "execute_result"
    }
   ],
   "source": [
    "data[:200]"
   ]
  },
  {
   "cell_type": "code",
   "execution_count": 4,
   "metadata": {
    "collapsed": true
   },
   "outputs": [],
   "source": [
    "# organising texts into a list\n",
    "text_data = []\n",
    "text_data.append(data)"
   ]
  },
  {
   "cell_type": "code",
   "execution_count": 5,
   "metadata": {
    "collapsed": true
   },
   "outputs": [],
   "source": [
    "# cleaning texts\n",
    "def clean_texts(text_data):\n",
    "    texts = [x.lower() for x in text_data]\n",
    "     # Removing numbers\n",
    "    digits = '0123456789'\n",
    "    texts = [''.join(c for c in x if c not in digits) for x in texts]\n",
    "    # Removing punctuation\n",
    "    texts = [''.join(c for c in x if c not in string.punctuation)\n",
    "                 for x in texts]\n",
    "    # Trimming extra whitespace\n",
    "    texts = [' '.join(x.split()) for x in texts]\n",
    "    return texts\n",
    "texts = clean_texts(text_data) "
   ]
  },
  {
   "cell_type": "code",
   "execution_count": 6,
   "metadata": {
    "collapsed": true
   },
   "outputs": [],
   "source": [
    "# organising words into tokens\n",
    "def tokeniser(data):\n",
    "    # turn sentences (list of strings) into lists of words\n",
    "    split_texts = [s.split() for s in data]\n",
    "    tokenised_words  = [x for sublist in split_texts for x in sublist] \n",
    "    return tokenised_words \n",
    "tokens = tokeniser(texts)"
   ]
  },
  {
   "cell_type": "code",
   "execution_count": 7,
   "metadata": {
    "collapsed": true
   },
   "outputs": [],
   "source": [
    "# removing most ccommon english words\n",
    "def stop_words(tokenised):\n",
    "    stop_words = stopwords.words('english')\n",
    "    non_stopwords = [c for c in tokenised if c not in stop_words]\n",
    "    return non_stopwords \n",
    "tokens = stop_words(tokens)"
   ]
  },
  {
   "cell_type": "code",
   "execution_count": 8,
   "metadata": {
    "collapsed": true
   },
   "outputs": [],
   "source": [
    "# selecting only root words\n",
    "def lemmatize(tokenised):\n",
    "    lemmatizer = WordNetLemmatizer()\n",
    "    lematized = [lemmatizer.lemmatize(x) for x in tokenised]\n",
    "    return lematized\n",
    "tokens = lemmatize(tokens)"
   ]
  },
  {
   "cell_type": "code",
   "execution_count": 9,
   "metadata": {},
   "outputs": [
    {
     "name": "stdout",
     "output_type": "stream",
     "text": [
      "478914\n",
      "26113\n"
     ]
    }
   ],
   "source": [
    "print(len(tokens))\n",
    "print(len(set(tokens)))"
   ]
  },
  {
   "cell_type": "code",
   "execution_count": 10,
   "metadata": {},
   "outputs": [
    {
     "data": {
      "text/plain": [
       "'creature'"
      ]
     },
     "execution_count": 10,
     "metadata": {},
     "output_type": "execute_result"
    }
   ],
   "source": [
    "tokens[1]"
   ]
  },
  {
   "cell_type": "code",
   "execution_count": 11,
   "metadata": {},
   "outputs": [
    {
     "name": "stdout",
     "output_type": "stream",
     "text": [
      "478863\n"
     ]
    }
   ],
   "source": [
    "# organisint corpus into sequences of tokens\n",
    "seq_len = 50+1\n",
    "seques = []\n",
    "for i in range(seq_len, len(tokens)):\n",
    "    # selsect sequences of tokens\n",
    "    seq = tokens[i-seq_len:i]\n",
    "    # convert into a line\n",
    "    line = ' '.join(c for c in seq)\n",
    "    # store\n",
    "    seques.append(line)\n",
    "print(len(seques))"
   ]
  },
  {
   "cell_type": "code",
   "execution_count": 12,
   "metadata": {},
   "outputs": [
    {
     "data": {
      "text/plain": [
       "'fairest creature desire increase thereby beauty rose might never die riper time decease tender heir might bear memory thou contracted thine bright eye feedst thy light flame selfsubstantial fuel making famine abundance lie thy self thy foe thy sweet self cruel thou art world fresh ornament herald gaudy spring within thine'"
      ]
     },
     "execution_count": 12,
     "metadata": {},
     "output_type": "execute_result"
    }
   ],
   "source": [
    "seques[0]"
   ]
  },
  {
   "cell_type": "code",
   "execution_count": 13,
   "metadata": {
    "collapsed": true
   },
   "outputs": [],
   "source": [
    "# selecting first 10000 sequences for training\n",
    "seqs = seques[:10000]"
   ]
  },
  {
   "cell_type": "code",
   "execution_count": 14,
   "metadata": {},
   "outputs": [
    {
     "name": "stderr",
     "output_type": "stream",
     "text": [
      "Using TensorFlow backend.\n"
     ]
    }
   ],
   "source": [
    "# generating tokens from sequences\n",
    "from keras.preprocessing.text import Tokenizer\n",
    "\n",
    "tokenizer = Tokenizer()\n",
    "tokenizer.fit_on_texts(seqs)\n",
    "sequenes = tokenizer.texts_to_sequences(seqs)"
   ]
  },
  {
   "cell_type": "code",
   "execution_count": 15,
   "metadata": {},
   "outputs": [
    {
     "name": "stdout",
     "output_type": "stream",
     "text": [
      "156\n",
      "156\n"
     ]
    }
   ],
   "source": [
    "print(sequenes[1][1])\n",
    "print(sequenes[2][0])"
   ]
  },
  {
   "cell_type": "code",
   "execution_count": 16,
   "metadata": {},
   "outputs": [
    {
     "data": {
      "text/plain": [
       "2916"
      ]
     },
     "execution_count": 16,
     "metadata": {},
     "output_type": "execute_result"
    }
   ],
   "source": [
    "# generating vocabulary size\n",
    "voc_size = len(tokenizer.word_index) + 1\n",
    "voc_size"
   ]
  },
  {
   "cell_type": "code",
   "execution_count": 17,
   "metadata": {},
   "outputs": [
    {
     "name": "stdout",
     "output_type": "stream",
     "text": [
      "(10000, 51)\n"
     ]
    }
   ],
   "source": [
    "# generating features and labels for training\n",
    "from keras.utils import to_categorical\n",
    "\n",
    "sequences = np.array(sequenes)\n",
    "print(sequences.shape)\n",
    "inputs, targets = sequences[:,:-1], sequences[:,-1]\n",
    "# one hot encoding label variables\n",
    "targets = to_categorical(targets, num_classes=voc_size)"
   ]
  },
  {
   "cell_type": "code",
   "execution_count": 18,
   "metadata": {},
   "outputs": [
    {
     "data": {
      "text/plain": [
       "(10000, 50)"
      ]
     },
     "execution_count": 18,
     "metadata": {},
     "output_type": "execute_result"
    }
   ],
   "source": [
    "inputs.shape"
   ]
  },
  {
   "cell_type": "code",
   "execution_count": 19,
   "metadata": {
    "collapsed": true
   },
   "outputs": [],
   "source": [
    "seq_len = inputs.shape[1]"
   ]
  },
  {
   "cell_type": "code",
   "execution_count": 20,
   "metadata": {},
   "outputs": [],
   "source": [
    "# defining model architecture\n",
    "from keras.models import Sequential\n",
    "from keras.layers import Embedding, LSTM, Dense\n",
    "\n",
    "out_dim = 64\n",
    "n_units = 32\n",
    "model = Sequential()\n",
    "model.add(Embedding(voc_size, out_dim, input_length=seq_len))\n",
    "model.add(LSTM(n_units))\n",
    "model.add(Dense(n_units, activation='relu'))\n",
    "model.add(Dense(voc_size, activation='softmax'))   "
   ]
  },
  {
   "cell_type": "code",
   "execution_count": 21,
   "metadata": {},
   "outputs": [
    {
     "name": "stdout",
     "output_type": "stream",
     "text": [
      "_________________________________________________________________\n",
      "Layer (type)                 Output Shape              Param #   \n",
      "=================================================================\n",
      "embedding_1 (Embedding)      (None, 50, 64)            186624    \n",
      "_________________________________________________________________\n",
      "lstm_1 (LSTM)                (None, 32)                12416     \n",
      "_________________________________________________________________\n",
      "dense_1 (Dense)              (None, 32)                1056      \n",
      "_________________________________________________________________\n",
      "dense_2 (Dense)              (None, 2916)              96228     \n",
      "=================================================================\n",
      "Total params: 296,324\n",
      "Trainable params: 296,324\n",
      "Non-trainable params: 0\n",
      "_________________________________________________________________\n"
     ]
    }
   ],
   "source": [
    "model.summary()"
   ]
  },
  {
   "cell_type": "code",
   "execution_count": 22,
   "metadata": {
    "collapsed": true
   },
   "outputs": [],
   "source": [
    "# defining model evaluation parameters\n",
    "model.compile(loss='categorical_crossentropy', optimizer='adam', metrics=['accuracy'])"
   ]
  },
  {
   "cell_type": "code",
   "execution_count": 23,
   "metadata": {},
   "outputs": [
    {
     "name": "stdout",
     "output_type": "stream",
     "text": [
      "Epoch 1/10\n",
      "10000/10000 [==============================] - 193s 19ms/step - loss: 7.5044 - acc: 0.0250\n",
      "Epoch 2/10\n",
      "10000/10000 [==============================] - 141s 14ms/step - loss: 7.0749 - acc: 0.0288\n",
      "Epoch 3/10\n",
      "10000/10000 [==============================] - 139s 14ms/step - loss: 6.9700 - acc: 0.0279\n",
      "Epoch 4/10\n",
      "10000/10000 [==============================] - 134s 13ms/step - loss: 6.8869 - acc: 0.0293\n",
      "Epoch 5/10\n",
      "10000/10000 [==============================] - 184s 18ms/step - loss: 6.8326 - acc: 0.0294\n",
      "Epoch 6/10\n",
      "10000/10000 [==============================] - 154s 15ms/step - loss: 6.7786 - acc: 0.0280\n",
      "Epoch 7/10\n",
      "10000/10000 [==============================] - 136s 14ms/step - loss: 6.7178 - acc: 0.0290\n",
      "Epoch 8/10\n",
      "10000/10000 [==============================] - 141s 14ms/step - loss: 6.6266 - acc: 0.0307\n",
      "Epoch 9/10\n",
      "10000/10000 [==============================] - 142s 14ms/step - loss: 6.5506 - acc: 0.0302\n",
      "Epoch 10/10\n",
      "10000/10000 [==============================] - 140s 14ms/step - loss: 6.4779 - acc: 0.0307\n"
     ]
    }
   ],
   "source": [
    "# model training\n",
    "history = model.fit(inputs, targets, batch_size=64, epochs=10)"
   ]
  },
  {
   "cell_type": "code",
   "execution_count": 24,
   "metadata": {
    "collapsed": true
   },
   "outputs": [],
   "source": [
    "# saving learned parameters\n",
    "model.save('next_words_model_00.h5')"
   ]
  },
  {
   "cell_type": "code",
   "execution_count": 25,
   "metadata": {},
   "outputs": [
    {
     "data": {
      "image/png": "[encoded data removed]",
      "text/plain": [
       "<Figure size 432x288 with 1 Axes>"
      ]
     },
     "metadata": {},
     "output_type": "display_data"
    },
    {
     "data": {
      "image/png": "[encoded data removed]",
      "text/plain": [
       "<Figure size 432x288 with 1 Axes>"
      ]
     },
     "metadata": {},
     "output_type": "display_data"
    }
   ],
   "source": [
    "# plotting model performance\n",
    "acc = history.history['acc']\n",
    "loss = history.history['loss']\n",
    "\n",
    "epochs = range(1, len(acc) + 1)\n",
    "\n",
    "plt.plot(epochs, acc, 'b', label='accuracy')\n",
    "plt.title('Training Accuracy')\n",
    "plt.legend()\n",
    "\n",
    "plt.figure()\n",
    "\n",
    "plt.plot(epochs, loss, 'b', label='loss')\n",
    "plt.title('Training Loss')\n",
    "plt.legend()\n",
    "\n",
    "plt.show()"
   ]
  },
  {
   "cell_type": "code",
   "execution_count": 26,
   "metadata": {
    "collapsed": true
   },
   "outputs": [],
   "source": [
    "# adding extra LSTM cell and drop-outs \n",
    "from keras import layers\n",
    "\n",
    "out_dim = 64\n",
    "n_units = 32\n",
    "model = Sequential()\n",
    "model.add(Embedding(voc_size, out_dim, input_length=seq_len))\n",
    "model.add(LSTM(n_units, return_sequences=True))\n",
    "model.add(layers.Dropout(0.2))\n",
    "model.add(LSTM(n_units))\n",
    "model.add(layers.Dropout(0.2))\n",
    "model.add(Dense(n_units, activation='relu'))\n",
    "model.add(layers.Dropout(0.2))\n",
    "model.add(Dense(voc_size, activation='softmax'))   "
   ]
  },
  {
   "cell_type": "code",
   "execution_count": 27,
   "metadata": {
    "scrolled": true
   },
   "outputs": [
    {
     "name": "stdout",
     "output_type": "stream",
     "text": [
      "_________________________________________________________________\n",
      "Layer (type)                 Output Shape              Param #   \n",
      "=================================================================\n",
      "embedding_2 (Embedding)      (None, 50, 64)            186624    \n",
      "_________________________________________________________________\n",
      "lstm_2 (LSTM)                (None, 50, 32)            12416     \n",
      "_________________________________________________________________\n",
      "dropout_1 (Dropout)          (None, 50, 32)            0         \n",
      "_________________________________________________________________\n",
      "lstm_3 (LSTM)                (None, 32)                8320      \n",
      "_________________________________________________________________\n",
      "dropout_2 (Dropout)          (None, 32)                0         \n",
      "_________________________________________________________________\n",
      "dense_3 (Dense)              (None, 32)                1056      \n",
      "_________________________________________________________________\n",
      "dropout_3 (Dropout)          (None, 32)                0         \n",
      "_________________________________________________________________\n",
      "dense_4 (Dense)              (None, 2916)              96228     \n",
      "=================================================================\n",
      "Total params: 304,644\n",
      "Trainable params: 304,644\n",
      "Non-trainable params: 0\n",
      "_________________________________________________________________\n"
     ]
    }
   ],
   "source": [
    "model.summary()"
   ]
  },
  {
   "cell_type": "code",
   "execution_count": 28,
   "metadata": {
    "collapsed": true
   },
   "outputs": [],
   "source": [
    "model.compile(loss='categorical_crossentropy', optimizer='adam', metrics=['accuracy'])"
   ]
  },
  {
   "cell_type": "code",
   "execution_count": 29,
   "metadata": {},
   "outputs": [
    {
     "name": "stdout",
     "output_type": "stream",
     "text": [
      "Epoch 1/500\n",
      "10000/10000 [==============================] - 340s 34ms/step - loss: 7.4949 - acc: 0.0242\n",
      "Epoch 2/500\n",
      "10000/10000 [==============================] - 258s 26ms/step - loss: 7.1228 - acc: 0.0274\n",
      "Epoch 3/500\n",
      "10000/10000 [==============================] - 243s 24ms/step - loss: 7.0691 - acc: 0.0273\n",
      "Epoch 4/500\n",
      "10000/10000 [==============================] - 241s 24ms/step - loss: 7.0076 - acc: 0.0287\n",
      "Epoch 5/500\n",
      "10000/10000 [==============================] - 262s 26ms/step - loss: 6.9575 - acc: 0.0281\n",
      "Epoch 6/500\n",
      "10000/10000 [==============================] - 238s 24ms/step - loss: 6.9180 - acc: 0.0286\n",
      "Epoch 7/500\n",
      "10000/10000 [==============================] - 239s 24ms/step - loss: 6.8642 - acc: 0.0269\n",
      "Epoch 8/500\n",
      "10000/10000 [==============================] - 268s 27ms/step - loss: 6.8143 - acc: 0.0282\n",
      "Epoch 9/500\n",
      "10000/10000 [==============================] - 265s 27ms/step - loss: 6.7428 - acc: 0.0279\n",
      "Epoch 10/500\n",
      "10000/10000 [==============================] - 233s 23ms/step - loss: 6.6852 - acc: 0.0277\n",
      "Epoch 11/500\n",
      "10000/10000 [==============================] - 236s 24ms/step - loss: 6.6384 - acc: 0.0277\n",
      "Epoch 12/500\n",
      "10000/10000 [==============================] - 236s 24ms/step - loss: 6.5907 - acc: 0.0293\n",
      "Epoch 13/500\n",
      "10000/10000 [==============================] - 240s 24ms/step - loss: 6.5527 - acc: 0.0298\n",
      "Epoch 14/500\n",
      "10000/10000 [==============================] - 236s 24ms/step - loss: 6.5110 - acc: 0.0298\n",
      "Epoch 15/500\n",
      "10000/10000 [==============================] - 248s 25ms/step - loss: 6.4670 - acc: 0.0291\n",
      "Epoch 16/500\n",
      "10000/10000 [==============================] - 236s 24ms/step - loss: 6.4340 - acc: 0.0277\n",
      "Epoch 17/500\n",
      "10000/10000 [==============================] - 239s 24ms/step - loss: 6.3988 - acc: 0.0297\n",
      "Epoch 18/500\n",
      "10000/10000 [==============================] - 235s 24ms/step - loss: 6.3586 - acc: 0.0306\n",
      "Epoch 19/500\n",
      "10000/10000 [==============================] - 237s 24ms/step - loss: 6.3264 - acc: 0.0295\n",
      "Epoch 20/500\n",
      "10000/10000 [==============================] - 238s 24ms/step - loss: 6.2985 - acc: 0.0289\n",
      "Epoch 21/500\n",
      "10000/10000 [==============================] - 272s 27ms/step - loss: 6.2702 - acc: 0.0310\n",
      "Epoch 22/500\n",
      "10000/10000 [==============================] - 272s 27ms/step - loss: 6.2401 - acc: 0.0292\n",
      "Epoch 23/500\n",
      "10000/10000 [==============================] - 237s 24ms/step - loss: 6.2024 - acc: 0.0327\n",
      "Epoch 24/500\n",
      "10000/10000 [==============================] - 240s 24ms/step - loss: 6.1737 - acc: 0.0319\n",
      "Epoch 25/500\n",
      "10000/10000 [==============================] - 235s 24ms/step - loss: 6.1482 - acc: 0.0307\n",
      "Epoch 26/500\n",
      "10000/10000 [==============================] - 236s 24ms/step - loss: 6.1140 - acc: 0.0337\n",
      "Epoch 27/500\n",
      "10000/10000 [==============================] - 250s 25ms/step - loss: 6.0880 - acc: 0.0312\n",
      "Epoch 28/500\n",
      "10000/10000 [==============================] - 237s 24ms/step - loss: 6.0558 - acc: 0.0317\n",
      "Epoch 29/500\n",
      "10000/10000 [==============================] - 235s 23ms/step - loss: 6.0265 - acc: 0.0347\n",
      "Epoch 30/500\n",
      "10000/10000 [==============================] - 237s 24ms/step - loss: 5.9977 - acc: 0.0371\n",
      "Epoch 31/500\n",
      "10000/10000 [==============================] - 235s 23ms/step - loss: 5.9727 - acc: 0.0344\n",
      "Epoch 32/500\n",
      "10000/10000 [==============================] - 236s 24ms/step - loss: 5.9365 - acc: 0.0356\n",
      "Epoch 33/500\n",
      "10000/10000 [==============================] - 235s 23ms/step - loss: 5.9101 - acc: 0.0360\n",
      "Epoch 34/500\n",
      "10000/10000 [==============================] - 259s 26ms/step - loss: 5.8892 - acc: 0.0381\n",
      "Epoch 35/500\n",
      "10000/10000 [==============================] - 240s 24ms/step - loss: 5.8597 - acc: 0.0374\n",
      "Epoch 36/500\n",
      "10000/10000 [==============================] - 240s 24ms/step - loss: 5.8341 - acc: 0.0392\n",
      "Epoch 37/500\n",
      "10000/10000 [==============================] - 235s 24ms/step - loss: 5.8022 - acc: 0.0396\n",
      "Epoch 38/500\n",
      "10000/10000 [==============================] - 234s 23ms/step - loss: 5.7787 - acc: 0.0403\n",
      "Epoch 39/500\n",
      "10000/10000 [==============================] - 230s 23ms/step - loss: 5.7692 - acc: 0.0412\n",
      "Epoch 40/500\n",
      "10000/10000 [==============================] - 229s 23ms/step - loss: 5.7199 - acc: 0.0414\n",
      "Epoch 41/500\n",
      "10000/10000 [==============================] - 228s 23ms/step - loss: 5.7020 - acc: 0.0393\n",
      "Epoch 42/500\n",
      "10000/10000 [==============================] - 231s 23ms/step - loss: 5.6607 - acc: 0.0415\n",
      "Epoch 43/500\n",
      "10000/10000 [==============================] - 233s 23ms/step - loss: 5.6438 - acc: 0.0410\n",
      "Epoch 44/500\n",
      "10000/10000 [==============================] - 353s 35ms/step - loss: 5.6107 - acc: 0.0429\n",
      "Epoch 45/500\n",
      "10000/10000 [==============================] - 476s 48ms/step - loss: 5.5900 - acc: 0.0432\n",
      "Epoch 46/500\n",
      "10000/10000 [==============================] - 225s 23ms/step - loss: 5.5611 - acc: 0.0457\n",
      "Epoch 47/500\n",
      "10000/10000 [==============================] - 224s 22ms/step - loss: 5.5321 - acc: 0.0451\n",
      "Epoch 48/500\n",
      "10000/10000 [==============================] - 219s 22ms/step - loss: 5.4891 - acc: 0.0449\n",
      "Epoch 49/500\n",
      "10000/10000 [==============================] - 250s 25ms/step - loss: 5.4767 - acc: 0.0468\n",
      "Epoch 50/500\n",
      "10000/10000 [==============================] - 222s 22ms/step - loss: 5.4447 - acc: 0.0456\n",
      "Epoch 51/500\n",
      "10000/10000 [==============================] - 222s 22ms/step - loss: 5.4140 - acc: 0.0501\n",
      "Epoch 52/500\n",
      "10000/10000 [==============================] - 220s 22ms/step - loss: 5.4088 - acc: 0.0464\n",
      "Epoch 53/500\n",
      "10000/10000 [==============================] - 216s 22ms/step - loss: 5.3759 - acc: 0.0501\n",
      "Epoch 54/500\n",
      "10000/10000 [==============================] - 223s 22ms/step - loss: 5.3529 - acc: 0.0484\n",
      "Epoch 55/500\n",
      "10000/10000 [==============================] - 230s 23ms/step - loss: 5.3275 - acc: 0.0492\n",
      "Epoch 56/500\n",
      "10000/10000 [==============================] - 231s 23ms/step - loss: 5.2919 - acc: 0.0499\n",
      "Epoch 57/500\n",
      "10000/10000 [==============================] - 224s 22ms/step - loss: 5.2691 - acc: 0.0524\n",
      "Epoch 58/500\n",
      "10000/10000 [==============================] - 223s 22ms/step - loss: 5.2451 - acc: 0.0521\n",
      "Epoch 59/500\n",
      "10000/10000 [==============================] - 223s 22ms/step - loss: 5.2299 - acc: 0.0538\n",
      "Epoch 60/500\n",
      "10000/10000 [==============================] - 228s 23ms/step - loss: 5.2056 - acc: 0.0503\n",
      "Epoch 61/500\n",
      "10000/10000 [==============================] - 231s 23ms/step - loss: 5.1775 - acc: 0.0511\n",
      "Epoch 62/500\n",
      "10000/10000 [==============================] - 229s 23ms/step - loss: 5.1580 - acc: 0.0558\n",
      "Epoch 63/500\n",
      "10000/10000 [==============================] - 226s 23ms/step - loss: 5.1382 - acc: 0.0573\n",
      "Epoch 64/500\n",
      "10000/10000 [==============================] - 224s 22ms/step - loss: 5.1068 - acc: 0.0548\n",
      "Epoch 65/500\n",
      "10000/10000 [==============================] - 226s 23ms/step - loss: 5.0796 - acc: 0.0600\n",
      "Epoch 66/500\n",
      "10000/10000 [==============================] - 222s 22ms/step - loss: 5.0570 - acc: 0.0577\n",
      "Epoch 67/500\n",
      "10000/10000 [==============================] - 225s 22ms/step - loss: 5.0371 - acc: 0.0581\n",
      "Epoch 68/500\n",
      "10000/10000 [==============================] - 223s 22ms/step - loss: 5.0229 - acc: 0.0592\n",
      "Epoch 69/500\n",
      "10000/10000 [==============================] - 223s 22ms/step - loss: 5.0078 - acc: 0.0593\n",
      "Epoch 70/500\n",
      "10000/10000 [==============================] - 224s 22ms/step - loss: 4.9783 - acc: 0.0607\n",
      "Epoch 71/500\n",
      "10000/10000 [==============================] - 225s 22ms/step - loss: 4.9685 - acc: 0.0618\n",
      "Epoch 72/500\n",
      "10000/10000 [==============================] - 226s 23ms/step - loss: 4.9495 - acc: 0.0584\n",
      "Epoch 73/500\n",
      "10000/10000 [==============================] - 224s 22ms/step - loss: 4.9218 - acc: 0.0623\n",
      "Epoch 74/500\n",
      "10000/10000 [==============================] - 225s 22ms/step - loss: 4.9114 - acc: 0.0649\n",
      "Epoch 75/500\n",
      "10000/10000 [==============================] - 18020s 2s/step - loss: 4.8806 - acc: 0.0611\n",
      "Epoch 76/500\n",
      "10000/10000 [==============================] - 265s 26ms/step - loss: 4.8719 - acc: 0.0641\n",
      "Epoch 77/500\n",
      "10000/10000 [==============================] - 246s 25ms/step - loss: 4.8511 - acc: 0.0694\n",
      "Epoch 78/500\n",
      "10000/10000 [==============================] - 243s 24ms/step - loss: 4.8486 - acc: 0.0692\n",
      "Epoch 79/500\n"
     ]
    },
    {
     "name": "stdout",
     "output_type": "stream",
     "text": [
      "10000/10000 [==============================] - 241s 24ms/step - loss: 4.8273 - acc: 0.0632\n",
      "Epoch 80/500\n",
      "10000/10000 [==============================] - 241s 24ms/step - loss: 4.8041 - acc: 0.0695\n",
      "Epoch 81/500\n",
      "10000/10000 [==============================] - 242s 24ms/step - loss: 4.8055 - acc: 0.0695\n",
      "Epoch 82/500\n",
      "10000/10000 [==============================] - 241s 24ms/step - loss: 4.7706 - acc: 0.0703\n",
      "Epoch 83/500\n",
      "10000/10000 [==============================] - 239s 24ms/step - loss: 4.7773 - acc: 0.0704\n",
      "Epoch 84/500\n",
      "10000/10000 [==============================] - 238s 24ms/step - loss: 4.7521 - acc: 0.0696\n",
      "Epoch 85/500\n",
      "10000/10000 [==============================] - 241s 24ms/step - loss: 4.7184 - acc: 0.0742\n",
      "Epoch 86/500\n",
      "10000/10000 [==============================] - 247s 25ms/step - loss: 4.7072 - acc: 0.0721\n",
      "Epoch 87/500\n",
      "10000/10000 [==============================] - 229s 23ms/step - loss: 4.7008 - acc: 0.0723\n",
      "Epoch 88/500\n",
      "10000/10000 [==============================] - 228s 23ms/step - loss: 4.6931 - acc: 0.0737\n",
      "Epoch 89/500\n",
      "10000/10000 [==============================] - 227s 23ms/step - loss: 4.6663 - acc: 0.0727\n",
      "Epoch 90/500\n",
      "10000/10000 [==============================] - 231s 23ms/step - loss: 4.6707 - acc: 0.0753\n",
      "Epoch 91/500\n",
      "10000/10000 [==============================] - 228s 23ms/step - loss: 4.6533 - acc: 0.0751\n",
      "Epoch 92/500\n",
      "10000/10000 [==============================] - 229s 23ms/step - loss: 4.6206 - acc: 0.0775\n",
      "Epoch 93/500\n",
      "10000/10000 [==============================] - 235s 24ms/step - loss: 4.6153 - acc: 0.0770\n",
      "Epoch 94/500\n",
      "10000/10000 [==============================] - 230s 23ms/step - loss: 4.6093 - acc: 0.0787\n",
      "Epoch 95/500\n",
      "10000/10000 [==============================] - 227s 23ms/step - loss: 4.5750 - acc: 0.0799\n",
      "Epoch 96/500\n",
      "10000/10000 [==============================] - 230s 23ms/step - loss: 4.5940 - acc: 0.0824\n",
      "Epoch 97/500\n",
      "10000/10000 [==============================] - 229s 23ms/step - loss: 4.5770 - acc: 0.0795\n",
      "Epoch 98/500\n",
      "10000/10000 [==============================] - 231s 23ms/step - loss: 4.5444 - acc: 0.0797\n",
      "Epoch 99/500\n",
      "10000/10000 [==============================] - 227s 23ms/step - loss: 4.5507 - acc: 0.0834\n",
      "Epoch 100/500\n",
      "10000/10000 [==============================] - 230s 23ms/step - loss: 4.5420 - acc: 0.0817\n",
      "Epoch 101/500\n",
      "10000/10000 [==============================] - 229s 23ms/step - loss: 4.5366 - acc: 0.0783\n",
      "Epoch 102/500\n",
      "10000/10000 [==============================] - 229s 23ms/step - loss: 4.5122 - acc: 0.0872\n",
      "Epoch 103/500\n",
      "10000/10000 [==============================] - 228s 23ms/step - loss: 4.4869 - acc: 0.0862\n",
      "Epoch 104/500\n",
      "10000/10000 [==============================] - 251s 25ms/step - loss: 4.4910 - acc: 0.0855\n",
      "Epoch 105/500\n",
      "10000/10000 [==============================] - 227s 23ms/step - loss: 4.4789 - acc: 0.0846\n",
      "Epoch 106/500\n",
      "10000/10000 [==============================] - 245s 24ms/step - loss: 4.4522 - acc: 0.0889\n",
      "Epoch 107/500\n",
      "10000/10000 [==============================] - ETA: 0s - loss: 4.4591 - acc: 0.085 - 241s 24ms/step - loss: 4.4584 - acc: 0.0857\n",
      "Epoch 108/500\n",
      "10000/10000 [==============================] - 236s 24ms/step - loss: 4.4482 - acc: 0.0902\n",
      "Epoch 109/500\n",
      "10000/10000 [==============================] - 237s 24ms/step - loss: 4.4221 - acc: 0.0907\n",
      "Epoch 110/500\n",
      "10000/10000 [==============================] - 1617s 162ms/step - loss: 4.4287 - acc: 0.0879\n",
      "Epoch 111/500\n",
      "10000/10000 [==============================] - 239s 24ms/step - loss: 4.4262 - acc: 0.0940\n",
      "Epoch 112/500\n",
      "10000/10000 [==============================] - 236s 24ms/step - loss: 4.3909 - acc: 0.0924\n",
      "Epoch 113/500\n",
      "10000/10000 [==============================] - 236s 24ms/step - loss: 4.3977 - acc: 0.0898\n",
      "Epoch 114/500\n",
      "10000/10000 [==============================] - 1354s 135ms/step - loss: 4.3943 - acc: 0.0921\n",
      "Epoch 115/500\n",
      "10000/10000 [==============================] - 238s 24ms/step - loss: 4.3634 - acc: 0.0940\n",
      "Epoch 116/500\n",
      "10000/10000 [==============================] - 236s 24ms/step - loss: 4.3744 - acc: 0.0954\n",
      "Epoch 117/500\n",
      "10000/10000 [==============================] - 2263s 226ms/step - loss: 4.3690 - acc: 0.0930\n",
      "Epoch 118/500\n",
      "10000/10000 [==============================] - 244s 24ms/step - loss: 4.3408 - acc: 0.0945\n",
      "Epoch 119/500\n",
      "10000/10000 [==============================] - 251s 25ms/step - loss: 4.3138 - acc: 0.0939\n",
      "Epoch 120/500\n",
      "10000/10000 [==============================] - 249s 25ms/step - loss: 4.3260 - acc: 0.0973\n",
      "Epoch 121/500\n",
      "10000/10000 [==============================] - 249s 25ms/step - loss: 4.3256 - acc: 0.0983\n",
      "Epoch 122/500\n",
      "10000/10000 [==============================] - 239s 24ms/step - loss: 4.2995 - acc: 0.1002\n",
      "Epoch 123/500\n",
      "10000/10000 [==============================] - 235s 24ms/step - loss: 4.3051 - acc: 0.0963\n",
      "Epoch 124/500\n",
      "10000/10000 [==============================] - 10853s 1s/step - loss: 4.3057 - acc: 0.1028\n",
      "Epoch 125/500\n",
      "10000/10000 [==============================] - 313s 31ms/step - loss: 4.2854 - acc: 0.0994\n",
      "Epoch 126/500\n",
      "10000/10000 [==============================] - 1571s 157ms/step - loss: 4.2778 - acc: 0.0998\n",
      "Epoch 127/500\n",
      "10000/10000 [==============================] - 246s 25ms/step - loss: 4.2591 - acc: 0.1045\n",
      "Epoch 128/500\n",
      "10000/10000 [==============================] - 245s 25ms/step - loss: 4.2493 - acc: 0.1022\n",
      "Epoch 129/500\n",
      "10000/10000 [==============================] - 244s 24ms/step - loss: 4.2267 - acc: 0.0992\n",
      "Epoch 130/500\n",
      "10000/10000 [==============================] - 243s 24ms/step - loss: 4.2384 - acc: 0.1034\n",
      "Epoch 131/500\n",
      "10000/10000 [==============================] - 240s 24ms/step - loss: 4.2368 - acc: 0.1035\n",
      "Epoch 132/500\n",
      "10000/10000 [==============================] - 240s 24ms/step - loss: 4.1953 - acc: 0.1075\n",
      "Epoch 133/500\n",
      "10000/10000 [==============================] - 238s 24ms/step - loss: 4.2053 - acc: 0.1026\n",
      "Epoch 134/500\n",
      "10000/10000 [==============================] - 246s 25ms/step - loss: 4.2160 - acc: 0.1054\n",
      "Epoch 135/500\n",
      "10000/10000 [==============================] - 3932s 393ms/step - loss: 4.1934 - acc: 0.1099\n",
      "Epoch 136/500\n",
      "10000/10000 [==============================] - 249s 25ms/step - loss: 4.1843 - acc: 0.1110\n",
      "Epoch 137/500\n",
      "10000/10000 [==============================] - 246s 25ms/step - loss: 4.1604 - acc: 0.1099\n",
      "Epoch 138/500\n",
      "10000/10000 [==============================] - 242s 24ms/step - loss: 4.1767 - acc: 0.1098\n",
      "Epoch 139/500\n",
      "10000/10000 [==============================] - 239s 24ms/step - loss: 4.1600 - acc: 0.1099\n",
      "Epoch 140/500\n",
      "10000/10000 [==============================] - 239s 24ms/step - loss: 4.1380 - acc: 0.1130\n",
      "Epoch 141/500\n",
      "10000/10000 [==============================] - 238s 24ms/step - loss: 4.1356 - acc: 0.1102\n",
      "Epoch 142/500\n",
      "10000/10000 [==============================] - 239s 24ms/step - loss: 4.1309 - acc: 0.1108\n",
      "Epoch 143/500\n",
      "10000/10000 [==============================] - 680s 68ms/step - loss: 4.1318 - acc: 0.1122\n",
      "Epoch 144/500\n",
      "10000/10000 [==============================] - 245s 24ms/step - loss: 4.0992 - acc: 0.1219\n",
      "Epoch 145/500\n",
      "10000/10000 [==============================] - 245s 25ms/step - loss: 4.1244 - acc: 0.1139\n",
      "Epoch 146/500\n",
      "10000/10000 [==============================] - 247s 25ms/step - loss: 4.1068 - acc: 0.1137\n",
      "Epoch 147/500\n",
      "10000/10000 [==============================] - 245s 24ms/step - loss: 4.1133 - acc: 0.1183\n",
      "Epoch 148/500\n",
      "10000/10000 [==============================] - 246s 25ms/step - loss: 4.0993 - acc: 0.1123\n",
      "Epoch 149/500\n",
      "10000/10000 [==============================] - 247s 25ms/step - loss: 4.0853 - acc: 0.1159\n",
      "Epoch 150/500\n",
      "10000/10000 [==============================] - 246s 25ms/step - loss: 4.0728 - acc: 0.1168\n",
      "Epoch 151/500\n",
      "10000/10000 [==============================] - 243s 24ms/step - loss: 4.0650 - acc: 0.1150\n",
      "Epoch 152/500\n",
      "10000/10000 [==============================] - 245s 24ms/step - loss: 4.0570 - acc: 0.1244\n",
      "Epoch 153/500\n",
      "10000/10000 [==============================] - 249s 25ms/step - loss: 4.0589 - acc: 0.1172\n",
      "Epoch 154/500\n",
      "10000/10000 [==============================] - 245s 25ms/step - loss: 4.0304 - acc: 0.1218\n",
      "Epoch 155/500\n",
      "10000/10000 [==============================] - 235s 24ms/step - loss: 4.0538 - acc: 0.1221\n",
      "Epoch 156/500\n"
     ]
    },
    {
     "name": "stdout",
     "output_type": "stream",
     "text": [
      "10000/10000 [==============================] - 231s 23ms/step - loss: 4.0666 - acc: 0.1174\n",
      "Epoch 157/500\n",
      "10000/10000 [==============================] - 230s 23ms/step - loss: 4.0159 - acc: 0.1171\n",
      "Epoch 158/500\n",
      "10000/10000 [==============================] - 229s 23ms/step - loss: 4.0247 - acc: 0.1308\n",
      "Epoch 159/500\n",
      "10000/10000 [==============================] - 229s 23ms/step - loss: 4.0215 - acc: 0.1240\n",
      "Epoch 160/500\n",
      "10000/10000 [==============================] - 232s 23ms/step - loss: 4.0273 - acc: 0.1220\n",
      "Epoch 161/500\n",
      "10000/10000 [==============================] - 231s 23ms/step - loss: 3.9874 - acc: 0.1235\n",
      "Epoch 162/500\n",
      "10000/10000 [==============================] - 231s 23ms/step - loss: 4.0002 - acc: 0.1289\n",
      "Epoch 163/500\n",
      "10000/10000 [==============================] - 229s 23ms/step - loss: 3.9737 - acc: 0.1290\n",
      "Epoch 164/500\n",
      "10000/10000 [==============================] - 232s 23ms/step - loss: 3.9769 - acc: 0.1276\n",
      "Epoch 165/500\n",
      "10000/10000 [==============================] - 231s 23ms/step - loss: 3.9615 - acc: 0.1296\n",
      "Epoch 166/500\n",
      "10000/10000 [==============================] - 230s 23ms/step - loss: 3.9486 - acc: 0.1349\n",
      "Epoch 167/500\n",
      "10000/10000 [==============================] - 229s 23ms/step - loss: 3.9610 - acc: 0.1279\n",
      "Epoch 168/500\n",
      "10000/10000 [==============================] - 230s 23ms/step - loss: 3.9519 - acc: 0.1299\n",
      "Epoch 169/500\n",
      "10000/10000 [==============================] - 230s 23ms/step - loss: 3.9305 - acc: 0.1342\n",
      "Epoch 170/500\n",
      "10000/10000 [==============================] - 230s 23ms/step - loss: 3.9476 - acc: 0.1342\n",
      "Epoch 171/500\n",
      "10000/10000 [==============================] - 223s 22ms/step - loss: 3.9408 - acc: 0.1296\n",
      "Epoch 172/500\n",
      "10000/10000 [==============================] - 224s 22ms/step - loss: 3.9455 - acc: 0.1263\n",
      "Epoch 173/500\n",
      "10000/10000 [==============================] - 225s 22ms/step - loss: 3.9185 - acc: 0.1359\n",
      "Epoch 174/500\n",
      "10000/10000 [==============================] - 223s 22ms/step - loss: 3.8872 - acc: 0.1358\n",
      "Epoch 175/500\n",
      "10000/10000 [==============================] - 5487s 549ms/step - loss: 3.9087 - acc: 0.1310\n",
      "Epoch 176/500\n",
      "10000/10000 [==============================] - 244s 24ms/step - loss: 3.8907 - acc: 0.1398\n",
      "Epoch 177/500\n",
      "10000/10000 [==============================] - 240s 24ms/step - loss: 3.8817 - acc: 0.1332\n",
      "Epoch 178/500\n",
      "10000/10000 [==============================] - 228s 23ms/step - loss: 3.8952 - acc: 0.1319\n",
      "Epoch 179/500\n",
      "10000/10000 [==============================] - 231s 23ms/step - loss: 3.8696 - acc: 0.1386\n",
      "Epoch 180/500\n",
      "10000/10000 [==============================] - 229s 23ms/step - loss: 3.8546 - acc: 0.1368\n",
      "Epoch 181/500\n",
      "10000/10000 [==============================] - 228s 23ms/step - loss: 3.8604 - acc: 0.1371\n",
      "Epoch 182/500\n",
      "10000/10000 [==============================] - 228s 23ms/step - loss: 3.8397 - acc: 0.1406\n",
      "Epoch 183/500\n",
      "10000/10000 [==============================] - 227s 23ms/step - loss: 3.8652 - acc: 0.1370\n",
      "Epoch 184/500\n",
      "10000/10000 [==============================] - 227s 23ms/step - loss: 3.8412 - acc: 0.1430\n",
      "Epoch 185/500\n",
      "10000/10000 [==============================] - 228s 23ms/step - loss: 3.8341 - acc: 0.1391\n",
      "Epoch 186/500\n",
      "10000/10000 [==============================] - 230s 23ms/step - loss: 3.8377 - acc: 0.1376\n",
      "Epoch 187/500\n",
      "10000/10000 [==============================] - 228s 23ms/step - loss: 3.8187 - acc: 0.1395\n",
      "Epoch 188/500\n",
      "10000/10000 [==============================] - 226s 23ms/step - loss: 3.7921 - acc: 0.1431\n",
      "Epoch 189/500\n",
      "10000/10000 [==============================] - 230s 23ms/step - loss: 3.8181 - acc: 0.1482\n",
      "Epoch 190/500\n",
      "10000/10000 [==============================] - 227s 23ms/step - loss: 3.8018 - acc: 0.1470\n",
      "Epoch 191/500\n",
      "10000/10000 [==============================] - 230s 23ms/step - loss: 3.7879 - acc: 0.1525\n",
      "Epoch 192/500\n",
      "10000/10000 [==============================] - 228s 23ms/step - loss: 3.8007 - acc: 0.1447\n",
      "Epoch 193/500\n",
      "10000/10000 [==============================] - 231s 23ms/step - loss: 3.7950 - acc: 0.1476\n",
      "Epoch 194/500\n",
      "10000/10000 [==============================] - 229s 23ms/step - loss: 3.7775 - acc: 0.1470\n",
      "Epoch 195/500\n",
      "10000/10000 [==============================] - 227s 23ms/step - loss: 3.7848 - acc: 0.1518\n",
      "Epoch 196/500\n",
      "10000/10000 [==============================] - 253s 25ms/step - loss: 3.7702 - acc: 0.1483\n",
      "Epoch 197/500\n",
      "10000/10000 [==============================] - 249s 25ms/step - loss: 3.7648 - acc: 0.1524\n",
      "Epoch 198/500\n",
      "10000/10000 [==============================] - 268s 27ms/step - loss: 3.7752 - acc: 0.1477\n",
      "Epoch 199/500\n",
      "10000/10000 [==============================] - 250s 25ms/step - loss: 3.7399 - acc: 0.1555\n",
      "Epoch 200/500\n",
      "10000/10000 [==============================] - 249s 25ms/step - loss: 3.7546 - acc: 0.1576\n",
      "Epoch 201/500\n",
      "10000/10000 [==============================] - 246s 25ms/step - loss: 3.7486 - acc: 0.1438\n",
      "Epoch 202/500\n",
      "10000/10000 [==============================] - 241s 24ms/step - loss: 3.7193 - acc: 0.1567\n",
      "Epoch 203/500\n",
      "10000/10000 [==============================] - 241s 24ms/step - loss: 3.7391 - acc: 0.1531\n",
      "Epoch 204/500\n",
      "10000/10000 [==============================] - 241s 24ms/step - loss: 3.7492 - acc: 0.1481\n",
      "Epoch 205/500\n",
      "10000/10000 [==============================] - 240s 24ms/step - loss: 3.7178 - acc: 0.1572\n",
      "Epoch 206/500\n",
      "10000/10000 [==============================] - 1709s 171ms/step - loss: 3.6906 - acc: 0.1643\n",
      "Epoch 207/500\n",
      "10000/10000 [==============================] - 243s 24ms/step - loss: 3.7059 - acc: 0.1560\n",
      "Epoch 208/500\n",
      "10000/10000 [==============================] - 243s 24ms/step - loss: 3.6945 - acc: 0.1593\n",
      "Epoch 209/500\n",
      "10000/10000 [==============================] - 245s 25ms/step - loss: 3.7093 - acc: 0.1537\n",
      "Epoch 210/500\n",
      "10000/10000 [==============================] - 246s 25ms/step - loss: 3.6893 - acc: 0.1640\n",
      "Epoch 211/500\n",
      "10000/10000 [==============================] - 243s 24ms/step - loss: 3.6722 - acc: 0.1608\n",
      "Epoch 212/500\n",
      "10000/10000 [==============================] - 244s 24ms/step - loss: 3.6489 - acc: 0.1614\n",
      "Epoch 213/500\n",
      "10000/10000 [==============================] - 245s 25ms/step - loss: 3.6921 - acc: 0.1657\n",
      "Epoch 214/500\n",
      "10000/10000 [==============================] - 245s 25ms/step - loss: 3.6428 - acc: 0.1661\n",
      "Epoch 215/500\n",
      "10000/10000 [==============================] - 247s 25ms/step - loss: 3.6614 - acc: 0.1578\n",
      "Epoch 216/500\n",
      "10000/10000 [==============================] - 244s 24ms/step - loss: 3.6434 - acc: 0.1636\n",
      "Epoch 217/500\n",
      "10000/10000 [==============================] - 243s 24ms/step - loss: 3.6360 - acc: 0.1615\n",
      "Epoch 218/500\n",
      "10000/10000 [==============================] - 245s 24ms/step - loss: 3.6365 - acc: 0.1648\n",
      "Epoch 219/500\n",
      "10000/10000 [==============================] - 249s 25ms/step - loss: 3.6451 - acc: 0.1647\n",
      "Epoch 220/500\n",
      "10000/10000 [==============================] - 243s 24ms/step - loss: 3.6492 - acc: 0.1623\n",
      "Epoch 221/500\n",
      "10000/10000 [==============================] - 245s 25ms/step - loss: 3.6190 - acc: 0.1632\n",
      "Epoch 222/500\n",
      "10000/10000 [==============================] - 240s 24ms/step - loss: 3.6023 - acc: 0.1655\n",
      "Epoch 223/500\n",
      "10000/10000 [==============================] - 239s 24ms/step - loss: 3.6144 - acc: 0.1661\n",
      "Epoch 224/500\n",
      "10000/10000 [==============================] - 240s 24ms/step - loss: 3.5950 - acc: 0.1676\n",
      "Epoch 225/500\n",
      "10000/10000 [==============================] - 239s 24ms/step - loss: 3.5907 - acc: 0.1716\n",
      "Epoch 226/500\n",
      "10000/10000 [==============================] - 240s 24ms/step - loss: 3.5932 - acc: 0.1731\n",
      "Epoch 227/500\n",
      "10000/10000 [==============================] - 733s 73ms/step - loss: 3.5880 - acc: 0.1740\n",
      "Epoch 228/500\n",
      "10000/10000 [==============================] - 247s 25ms/step - loss: 3.5993 - acc: 0.1698\n",
      "Epoch 229/500\n",
      "10000/10000 [==============================] - 246s 25ms/step - loss: 3.5857 - acc: 0.1700\n",
      "Epoch 230/500\n",
      "10000/10000 [==============================] - 244s 24ms/step - loss: 3.5814 - acc: 0.1702\n",
      "Epoch 231/500\n",
      "10000/10000 [==============================] - 239s 24ms/step - loss: 3.5640 - acc: 0.1756\n",
      "Epoch 232/500\n",
      "10000/10000 [==============================] - 239s 24ms/step - loss: 3.5574 - acc: 0.1752\n",
      "Epoch 233/500\n",
      "10000/10000 [==============================] - 239s 24ms/step - loss: 3.5593 - acc: 0.1791\n",
      "Epoch 234/500\n"
     ]
    },
    {
     "name": "stdout",
     "output_type": "stream",
     "text": [
      "10000/10000 [==============================] - 235s 23ms/step - loss: 3.5510 - acc: 0.1775\n",
      "Epoch 235/500\n",
      "10000/10000 [==============================] - 487s 49ms/step - loss: 3.5604 - acc: 0.1721\n",
      "Epoch 236/500\n",
      "10000/10000 [==============================] - 240s 24ms/step - loss: 3.5466 - acc: 0.1776\n",
      "Epoch 237/500\n",
      "10000/10000 [==============================] - 237s 24ms/step - loss: 3.5435 - acc: 0.1755\n",
      "Epoch 238/500\n",
      "10000/10000 [==============================] - 269s 27ms/step - loss: 3.5386 - acc: 0.1778\n",
      "Epoch 239/500\n",
      "10000/10000 [==============================] - 244s 24ms/step - loss: 3.5418 - acc: 0.1788\n",
      "Epoch 240/500\n",
      "10000/10000 [==============================] - 231s 23ms/step - loss: 3.5245 - acc: 0.1725\n",
      "Epoch 241/500\n",
      "10000/10000 [==============================] - 233s 23ms/step - loss: 3.5280 - acc: 0.1839\n",
      "Epoch 242/500\n",
      "10000/10000 [==============================] - 233s 23ms/step - loss: 3.5458 - acc: 0.1743\n",
      "Epoch 243/500\n",
      "10000/10000 [==============================] - 238s 24ms/step - loss: 3.5107 - acc: 0.1867\n",
      "Epoch 244/500\n",
      "10000/10000 [==============================] - 231s 23ms/step - loss: 3.4963 - acc: 0.1878\n",
      "Epoch 245/500\n",
      "10000/10000 [==============================] - 229s 23ms/step - loss: 3.5136 - acc: 0.1824\n",
      "Epoch 246/500\n",
      "10000/10000 [==============================] - 244s 24ms/step - loss: 3.4863 - acc: 0.1841\n",
      "Epoch 247/500\n",
      "10000/10000 [==============================] - 245s 25ms/step - loss: 3.4865 - acc: 0.1910\n",
      "Epoch 248/500\n",
      "10000/10000 [==============================] - 243s 24ms/step - loss: 3.4817 - acc: 0.1844\n",
      "Epoch 249/500\n",
      "10000/10000 [==============================] - 242s 24ms/step - loss: 3.4787 - acc: 0.1897\n",
      "Epoch 250/500\n",
      "10000/10000 [==============================] - 231s 23ms/step - loss: 3.4797 - acc: 0.1860\n",
      "Epoch 251/500\n",
      "10000/10000 [==============================] - 230s 23ms/step - loss: 3.4658 - acc: 0.1850\n",
      "Epoch 252/500\n",
      "10000/10000 [==============================] - 229s 23ms/step - loss: 3.4553 - acc: 0.1919\n",
      "Epoch 253/500\n",
      "10000/10000 [==============================] - 230s 23ms/step - loss: 3.4402 - acc: 0.1902\n",
      "Epoch 254/500\n",
      "10000/10000 [==============================] - 230s 23ms/step - loss: 3.4459 - acc: 0.1947\n",
      "Epoch 255/500\n",
      "10000/10000 [==============================] - 231s 23ms/step - loss: 3.4491 - acc: 0.1894\n",
      "Epoch 256/500\n",
      "10000/10000 [==============================] - 230s 23ms/step - loss: 3.4593 - acc: 0.1835\n",
      "Epoch 257/500\n",
      "10000/10000 [==============================] - 231s 23ms/step - loss: 3.4562 - acc: 0.1928\n",
      "Epoch 258/500\n",
      "10000/10000 [==============================] - 230s 23ms/step - loss: 3.4329 - acc: 0.1940\n",
      "Epoch 259/500\n",
      "10000/10000 [==============================] - 230s 23ms/step - loss: 3.4375 - acc: 0.1927\n",
      "Epoch 260/500\n",
      "10000/10000 [==============================] - 241s 24ms/step - loss: 3.4478 - acc: 0.1879\n",
      "Epoch 261/500\n",
      "10000/10000 [==============================] - 244s 24ms/step - loss: 3.4479 - acc: 0.1902\n",
      "Epoch 262/500\n",
      "10000/10000 [==============================] - 237s 24ms/step - loss: 3.4402 - acc: 0.1917\n",
      "Epoch 263/500\n",
      "10000/10000 [==============================] - 237s 24ms/step - loss: 3.4275 - acc: 0.1898\n",
      "Epoch 264/500\n",
      "10000/10000 [==============================] - 30505s 3s/step - loss: 3.4199 - acc: 0.1950\n",
      "Epoch 265/500\n",
      "10000/10000 [==============================] - 247s 25ms/step - loss: 3.4231 - acc: 0.1936\n",
      "Epoch 266/500\n",
      "10000/10000 [==============================] - 244s 24ms/step - loss: 3.4068 - acc: 0.1905\n",
      "Epoch 267/500\n",
      "10000/10000 [==============================] - 238s 24ms/step - loss: 3.3915 - acc: 0.1969\n",
      "Epoch 268/500\n",
      "10000/10000 [==============================] - 237s 24ms/step - loss: 3.3904 - acc: 0.1972\n",
      "Epoch 269/500\n",
      "10000/10000 [==============================] - 5287s 529ms/step - loss: 3.3886 - acc: 0.2020\n",
      "Epoch 270/500\n",
      "10000/10000 [==============================] - 251s 25ms/step - loss: 3.4026 - acc: 0.1979\n",
      "Epoch 271/500\n",
      "10000/10000 [==============================] - 229s 23ms/step - loss: 3.3771 - acc: 0.2042\n",
      "Epoch 272/500\n",
      "10000/10000 [==============================] - 225s 22ms/step - loss: 3.3682 - acc: 0.2043\n",
      "Epoch 273/500\n",
      "10000/10000 [==============================] - 223s 22ms/step - loss: 3.3916 - acc: 0.2029\n",
      "Epoch 274/500\n",
      "10000/10000 [==============================] - 282s 28ms/step - loss: 3.3579 - acc: 0.2058\n",
      "Epoch 275/500\n",
      "10000/10000 [==============================] - 229s 23ms/step - loss: 3.3706 - acc: 0.1961\n",
      "Epoch 276/500\n",
      "10000/10000 [==============================] - 231s 23ms/step - loss: 3.3564 - acc: 0.2056\n",
      "Epoch 277/500\n",
      "10000/10000 [==============================] - 229s 23ms/step - loss: 3.3531 - acc: 0.2050\n",
      "Epoch 278/500\n",
      "10000/10000 [==============================] - 228s 23ms/step - loss: 3.3717 - acc: 0.1979\n",
      "Epoch 279/500\n",
      "10000/10000 [==============================] - 228s 23ms/step - loss: 3.3717 - acc: 0.2023\n",
      "Epoch 280/500\n",
      "10000/10000 [==============================] - 229s 23ms/step - loss: 3.3762 - acc: 0.2013\n",
      "Epoch 281/500\n",
      "10000/10000 [==============================] - 231s 23ms/step - loss: 3.3312 - acc: 0.2050\n",
      "Epoch 282/500\n",
      "10000/10000 [==============================] - 230s 23ms/step - loss: 3.3722 - acc: 0.2043\n",
      "Epoch 283/500\n",
      "10000/10000 [==============================] - 227s 23ms/step - loss: 3.3553 - acc: 0.2005\n",
      "Epoch 284/500\n",
      "10000/10000 [==============================] - 224s 22ms/step - loss: 3.3313 - acc: 0.2148\n",
      "Epoch 285/500\n",
      "10000/10000 [==============================] - 230s 23ms/step - loss: 3.3161 - acc: 0.2081\n",
      "Epoch 286/500\n",
      "10000/10000 [==============================] - 229s 23ms/step - loss: 3.3050 - acc: 0.2077\n",
      "Epoch 287/500\n",
      "10000/10000 [==============================] - 222s 22ms/step - loss: 3.3188 - acc: 0.2055\n",
      "Epoch 288/500\n",
      "10000/10000 [==============================] - 224s 22ms/step - loss: 3.3063 - acc: 0.2137\n",
      "Epoch 289/500\n",
      "10000/10000 [==============================] - 229s 23ms/step - loss: 3.2950 - acc: 0.2128\n",
      "Epoch 290/500\n",
      "10000/10000 [==============================] - 230s 23ms/step - loss: 3.3075 - acc: 0.2144\n",
      "Epoch 291/500\n",
      "10000/10000 [==============================] - 224s 22ms/step - loss: 3.3008 - acc: 0.2101\n",
      "Epoch 292/500\n",
      "10000/10000 [==============================] - 222s 22ms/step - loss: 3.2857 - acc: 0.2107\n",
      "Epoch 293/500\n",
      "10000/10000 [==============================] - 3105s 310ms/step - loss: 3.2709 - acc: 0.2150\n",
      "Epoch 294/500\n",
      "10000/10000 [==============================] - 234s 23ms/step - loss: 3.2854 - acc: 0.2056\n",
      "Epoch 295/500\n",
      "10000/10000 [==============================] - 228s 23ms/step - loss: 3.2723 - acc: 0.2147\n",
      "Epoch 296/500\n",
      "10000/10000 [==============================] - 227s 23ms/step - loss: 3.2935 - acc: 0.2167\n",
      "Epoch 297/500\n",
      "10000/10000 [==============================] - 223s 22ms/step - loss: 3.2756 - acc: 0.2158\n",
      "Epoch 298/500\n",
      "10000/10000 [==============================] - 221s 22ms/step - loss: 3.2541 - acc: 0.2177\n",
      "Epoch 299/500\n",
      "10000/10000 [==============================] - 824s 82ms/step - loss: 3.2655 - acc: 0.2173\n",
      "Epoch 300/500\n",
      "10000/10000 [==============================] - 228s 23ms/step - loss: 3.2698 - acc: 0.2210\n",
      "Epoch 301/500\n",
      "10000/10000 [==============================] - 225s 23ms/step - loss: 3.2403 - acc: 0.2231\n",
      "Epoch 302/500\n",
      "10000/10000 [==============================] - 223s 22ms/step - loss: 3.2523 - acc: 0.2115\n",
      "Epoch 303/500\n",
      "10000/10000 [==============================] - 3277s 328ms/step - loss: 3.2364 - acc: 0.2216\n",
      "Epoch 304/500\n",
      "10000/10000 [==============================] - 228s 23ms/step - loss: 3.2471 - acc: 0.2184\n",
      "Epoch 305/500\n",
      "10000/10000 [==============================] - 230s 23ms/step - loss: 3.2193 - acc: 0.2227\n",
      "Epoch 306/500\n",
      "10000/10000 [==============================] - 231s 23ms/step - loss: 3.2533 - acc: 0.2189\n",
      "Epoch 307/500\n",
      "10000/10000 [==============================] - 229s 23ms/step - loss: 3.2584 - acc: 0.2207\n",
      "Epoch 308/500\n",
      "10000/10000 [==============================] - 234s 23ms/step - loss: 3.2353 - acc: 0.2253\n",
      "Epoch 309/500\n",
      "10000/10000 [==============================] - 250s 25ms/step - loss: 3.2237 - acc: 0.2210\n",
      "Epoch 310/500\n",
      "10000/10000 [==============================] - 229s 23ms/step - loss: 3.2198 - acc: 0.2260\n",
      "Epoch 311/500\n",
      "10000/10000 [==============================] - 229s 23ms/step - loss: 3.2140 - acc: 0.2309\n",
      "Epoch 312/500\n"
     ]
    },
    {
     "name": "stdout",
     "output_type": "stream",
     "text": [
      "10000/10000 [==============================] - 229s 23ms/step - loss: 3.2114 - acc: 0.2266\n",
      "Epoch 313/500\n",
      "10000/10000 [==============================] - 228s 23ms/step - loss: 3.2064 - acc: 0.2293\n",
      "Epoch 314/500\n",
      "10000/10000 [==============================] - 224s 22ms/step - loss: 3.1952 - acc: 0.2376\n",
      "Epoch 315/500\n",
      "10000/10000 [==============================] - 221s 22ms/step - loss: 3.2048 - acc: 0.2291\n",
      "Epoch 316/500\n",
      "10000/10000 [==============================] - 8293s 829ms/step - loss: 3.1710 - acc: 0.2328\n",
      "Epoch 317/500\n",
      "10000/10000 [==============================] - 2216s 222ms/step - loss: 3.1972 - acc: 0.2306\n",
      "Epoch 318/500\n",
      "10000/10000 [==============================] - 252s 25ms/step - loss: 3.1793 - acc: 0.2327\n",
      "Epoch 319/500\n",
      "10000/10000 [==============================] - 240s 24ms/step - loss: 3.1885 - acc: 0.2366\n",
      "Epoch 320/500\n",
      "10000/10000 [==============================] - 255s 25ms/step - loss: 3.1755 - acc: 0.2382\n",
      "Epoch 321/500\n",
      "10000/10000 [==============================] - 234s 23ms/step - loss: 3.1817 - acc: 0.2357\n",
      "Epoch 322/500\n",
      "10000/10000 [==============================] - 399s 40ms/step - loss: 3.1693 - acc: 0.2369\n",
      "Epoch 323/500\n",
      "10000/10000 [==============================] - 329s 33ms/step - loss: 3.1842 - acc: 0.2327\n",
      "Epoch 324/500\n",
      "10000/10000 [==============================] - 243s 24ms/step - loss: 3.1631 - acc: 0.2381\n",
      "Epoch 325/500\n",
      "10000/10000 [==============================] - 254s 25ms/step - loss: 3.1721 - acc: 0.2347\n",
      "Epoch 326/500\n",
      "10000/10000 [==============================] - 233s 23ms/step - loss: 3.1322 - acc: 0.2399\n",
      "Epoch 327/500\n",
      "10000/10000 [==============================] - 233s 23ms/step - loss: 3.2001 - acc: 0.2341\n",
      "Epoch 328/500\n",
      "10000/10000 [==============================] - 246s 25ms/step - loss: 3.1492 - acc: 0.2329\n",
      "Epoch 329/500\n",
      "10000/10000 [==============================] - 230s 23ms/step - loss: 3.1571 - acc: 0.2392\n",
      "Epoch 330/500\n",
      "10000/10000 [==============================] - 230s 23ms/step - loss: 3.1435 - acc: 0.2372\n",
      "Epoch 331/500\n",
      "10000/10000 [==============================] - 229s 23ms/step - loss: 3.1494 - acc: 0.2418\n",
      "Epoch 332/500\n",
      "10000/10000 [==============================] - 228s 23ms/step - loss: 3.1588 - acc: 0.2356\n",
      "Epoch 333/500\n",
      "10000/10000 [==============================] - 225s 22ms/step - loss: 3.1172 - acc: 0.2432\n",
      "Epoch 334/500\n",
      "10000/10000 [==============================] - 225s 23ms/step - loss: 3.1425 - acc: 0.2363\n",
      "Epoch 335/500\n",
      "10000/10000 [==============================] - 223s 22ms/step - loss: 3.1318 - acc: 0.2381\n",
      "Epoch 336/500\n",
      "10000/10000 [==============================] - 225s 22ms/step - loss: 3.1537 - acc: 0.2383\n",
      "Epoch 337/500\n",
      "10000/10000 [==============================] - 2245s 224ms/step - loss: 3.1147 - acc: 0.2458\n",
      "Epoch 338/500\n",
      "10000/10000 [==============================] - 4617s 462ms/step - loss: 3.1439 - acc: 0.2442\n",
      "Epoch 339/500\n",
      "10000/10000 [==============================] - 245s 24ms/step - loss: 3.1146 - acc: 0.2409\n",
      "Epoch 340/500\n",
      "10000/10000 [==============================] - 246s 25ms/step - loss: 3.1046 - acc: 0.2481\n",
      "Epoch 341/500\n",
      "10000/10000 [==============================] - 242s 24ms/step - loss: 3.0925 - acc: 0.2391\n",
      "Epoch 342/500\n",
      "10000/10000 [==============================] - 240s 24ms/step - loss: 3.1071 - acc: 0.2448\n",
      "Epoch 343/500\n",
      "10000/10000 [==============================] - 245s 25ms/step - loss: 3.1136 - acc: 0.2411\n",
      "Epoch 344/500\n",
      "10000/10000 [==============================] - 250s 25ms/step - loss: 3.1018 - acc: 0.2462\n",
      "Epoch 345/500\n",
      "10000/10000 [==============================] - 230s 23ms/step - loss: 3.1172 - acc: 0.2434\n",
      "Epoch 346/500\n",
      "10000/10000 [==============================] - 231s 23ms/step - loss: 3.0740 - acc: 0.2553\n",
      "Epoch 347/500\n",
      "10000/10000 [==============================] - 231s 23ms/step - loss: 3.0727 - acc: 0.2527\n",
      "Epoch 348/500\n",
      "10000/10000 [==============================] - 228s 23ms/step - loss: 3.0738 - acc: 0.2548\n",
      "Epoch 349/500\n",
      "10000/10000 [==============================] - 227s 23ms/step - loss: 3.0763 - acc: 0.2485\n",
      "Epoch 350/500\n",
      "10000/10000 [==============================] - 229s 23ms/step - loss: 3.0812 - acc: 0.2522\n",
      "Epoch 351/500\n",
      "10000/10000 [==============================] - 227s 23ms/step - loss: 3.0485 - acc: 0.2543\n",
      "Epoch 352/500\n",
      "10000/10000 [==============================] - 229s 23ms/step - loss: 3.0689 - acc: 0.2486\n",
      "Epoch 353/500\n",
      "10000/10000 [==============================] - 229s 23ms/step - loss: 3.0698 - acc: 0.2527\n",
      "Epoch 354/500\n",
      "10000/10000 [==============================] - 229s 23ms/step - loss: 3.0241 - acc: 0.2598\n",
      "Epoch 355/500\n",
      "10000/10000 [==============================] - 231s 23ms/step - loss: 3.0414 - acc: 0.2603\n",
      "Epoch 356/500\n",
      "10000/10000 [==============================] - 232s 23ms/step - loss: 3.0731 - acc: 0.2547\n",
      "Epoch 357/500\n",
      "10000/10000 [==============================] - 230s 23ms/step - loss: 3.0685 - acc: 0.2508\n",
      "Epoch 358/500\n",
      "10000/10000 [==============================] - 229s 23ms/step - loss: 3.0363 - acc: 0.2599\n",
      "Epoch 359/500\n",
      "10000/10000 [==============================] - 229s 23ms/step - loss: 3.0400 - acc: 0.2561\n",
      "Epoch 360/500\n",
      "10000/10000 [==============================] - 231s 23ms/step - loss: 3.0416 - acc: 0.2580\n",
      "Epoch 361/500\n",
      "10000/10000 [==============================] - 229s 23ms/step - loss: 3.0489 - acc: 0.2578\n",
      "Epoch 362/500\n",
      "10000/10000 [==============================] - 228s 23ms/step - loss: 3.0519 - acc: 0.2581\n",
      "Epoch 363/500\n",
      "10000/10000 [==============================] - 230s 23ms/step - loss: 3.0402 - acc: 0.2602\n",
      "Epoch 364/500\n",
      "10000/10000 [==============================] - 230s 23ms/step - loss: 3.0134 - acc: 0.2720\n",
      "Epoch 365/500\n",
      "10000/10000 [==============================] - 228s 23ms/step - loss: 2.9981 - acc: 0.2659\n",
      "Epoch 366/500\n",
      "10000/10000 [==============================] - 232s 23ms/step - loss: 3.0155 - acc: 0.2623\n",
      "Epoch 367/500\n",
      "10000/10000 [==============================] - 241s 24ms/step - loss: 2.9766 - acc: 0.2733\n",
      "Epoch 368/500\n",
      "10000/10000 [==============================] - 244s 24ms/step - loss: 3.0050 - acc: 0.2632\n",
      "Epoch 369/500\n",
      "10000/10000 [==============================] - 234s 23ms/step - loss: 3.0106 - acc: 0.2620\n",
      "Epoch 370/500\n",
      "10000/10000 [==============================] - 230s 23ms/step - loss: 3.0167 - acc: 0.2606\n",
      "Epoch 371/500\n",
      "10000/10000 [==============================] - 233s 23ms/step - loss: 2.9853 - acc: 0.2668\n",
      "Epoch 372/500\n",
      "10000/10000 [==============================] - 229s 23ms/step - loss: 3.0127 - acc: 0.2579\n",
      "Epoch 373/500\n",
      "10000/10000 [==============================] - 226s 23ms/step - loss: 3.0028 - acc: 0.2587\n",
      "Epoch 374/500\n",
      "10000/10000 [==============================] - 229s 23ms/step - loss: 3.0005 - acc: 0.2635\n",
      "Epoch 375/500\n",
      "10000/10000 [==============================] - 230s 23ms/step - loss: 2.9892 - acc: 0.2647\n",
      "Epoch 376/500\n",
      "10000/10000 [==============================] - 228s 23ms/step - loss: 2.9870 - acc: 0.2632\n",
      "Epoch 377/500\n",
      "10000/10000 [==============================] - 228s 23ms/step - loss: 2.9797 - acc: 0.2710\n",
      "Epoch 378/500\n",
      "10000/10000 [==============================] - 227s 23ms/step - loss: 2.9788 - acc: 0.2720\n",
      "Epoch 379/500\n",
      "10000/10000 [==============================] - 223s 22ms/step - loss: 2.9893 - acc: 0.2659\n",
      "Epoch 380/500\n",
      "10000/10000 [==============================] - 223s 22ms/step - loss: 2.9652 - acc: 0.2639\n",
      "Epoch 381/500\n",
      "10000/10000 [==============================] - 1787s 179ms/step - loss: 2.9510 - acc: 0.2767\n",
      "Epoch 382/500\n",
      "10000/10000 [==============================] - 232s 23ms/step - loss: 2.9847 - acc: 0.2677\n",
      "Epoch 383/500\n",
      "10000/10000 [==============================] - 229s 23ms/step - loss: 2.9638 - acc: 0.2728\n",
      "Epoch 384/500\n",
      "10000/10000 [==============================] - 230s 23ms/step - loss: 2.9610 - acc: 0.2760\n",
      "Epoch 385/500\n",
      "10000/10000 [==============================] - 236s 24ms/step - loss: 2.9760 - acc: 0.2708\n",
      "Epoch 386/500\n",
      "10000/10000 [==============================] - 238s 24ms/step - loss: 2.9539 - acc: 0.2690\n",
      "Epoch 387/500\n",
      "10000/10000 [==============================] - 229s 23ms/step - loss: 2.9426 - acc: 0.2756\n",
      "Epoch 388/500\n",
      "10000/10000 [==============================] - 234s 23ms/step - loss: 2.9540 - acc: 0.2700\n",
      "Epoch 389/500\n",
      "10000/10000 [==============================] - 229s 23ms/step - loss: 2.9284 - acc: 0.2822\n",
      "Epoch 390/500\n"
     ]
    },
    {
     "name": "stdout",
     "output_type": "stream",
     "text": [
      "10000/10000 [==============================] - 229s 23ms/step - loss: 2.9667 - acc: 0.2706\n",
      "Epoch 391/500\n",
      "10000/10000 [==============================] - 232s 23ms/step - loss: 2.9373 - acc: 0.2797\n",
      "Epoch 392/500\n",
      "10000/10000 [==============================] - 229s 23ms/step - loss: 2.9439 - acc: 0.2753\n",
      "Epoch 393/500\n",
      "10000/10000 [==============================] - 223s 22ms/step - loss: 2.9734 - acc: 0.2789\n",
      "Epoch 394/500\n",
      "10000/10000 [==============================] - 223s 22ms/step - loss: 2.9346 - acc: 0.2824\n",
      "Epoch 395/500\n",
      "10000/10000 [==============================] - 18132s 2s/step - loss: 2.9671 - acc: 0.2763\n",
      "Epoch 396/500\n",
      "10000/10000 [==============================] - 244s 24ms/step - loss: 2.9140 - acc: 0.2809\n",
      "Epoch 397/500\n",
      "10000/10000 [==============================] - 237s 24ms/step - loss: 2.9331 - acc: 0.2773\n",
      "Epoch 398/500\n",
      "10000/10000 [==============================] - 243s 24ms/step - loss: 2.9134 - acc: 0.2784\n",
      "Epoch 399/500\n",
      "10000/10000 [==============================] - 240s 24ms/step - loss: 2.9184 - acc: 0.2828\n",
      "Epoch 400/500\n",
      "10000/10000 [==============================] - 236s 24ms/step - loss: 2.9043 - acc: 0.2895\n",
      "Epoch 401/500\n",
      "10000/10000 [==============================] - 246s 25ms/step - loss: 2.9025 - acc: 0.2817\n",
      "Epoch 402/500\n",
      "10000/10000 [==============================] - 244s 24ms/step - loss: 2.8784 - acc: 0.2866\n",
      "Epoch 403/500\n",
      "10000/10000 [==============================] - 243s 24ms/step - loss: 2.8810 - acc: 0.2897\n",
      "Epoch 404/500\n",
      "10000/10000 [==============================] - 237s 24ms/step - loss: 2.9027 - acc: 0.2897\n",
      "Epoch 405/500\n",
      "10000/10000 [==============================] - 235s 24ms/step - loss: 2.9053 - acc: 0.2791\n",
      "Epoch 406/500\n",
      "10000/10000 [==============================] - 581s 58ms/step - loss: 2.9047 - acc: 0.2899\n",
      "Epoch 407/500\n",
      "10000/10000 [==============================] - 245s 24ms/step - loss: 2.9049 - acc: 0.2837\n",
      "Epoch 408/500\n",
      "10000/10000 [==============================] - 246s 25ms/step - loss: 2.8875 - acc: 0.2863\n",
      "Epoch 409/500\n",
      "10000/10000 [==============================] - 242s 24ms/step - loss: 2.9105 - acc: 0.2778\n",
      "Epoch 410/500\n",
      "10000/10000 [==============================] - 238s 24ms/step - loss: 2.9272 - acc: 0.2772\n",
      "Epoch 411/500\n",
      "10000/10000 [==============================] - 591s 59ms/step - loss: 2.8821 - acc: 0.2903\n",
      "Epoch 412/500\n",
      "10000/10000 [==============================] - 248s 25ms/step - loss: 2.8738 - acc: 0.2882\n",
      "Epoch 413/500\n",
      "10000/10000 [==============================] - 245s 24ms/step - loss: 2.8434 - acc: 0.2966\n",
      "Epoch 414/500\n",
      "10000/10000 [==============================] - 241s 24ms/step - loss: 2.8613 - acc: 0.2929\n",
      "Epoch 415/500\n",
      "10000/10000 [==============================] - 239s 24ms/step - loss: 2.8652 - acc: 0.2924\n",
      "Epoch 416/500\n",
      "10000/10000 [==============================] - 481s 48ms/step - loss: 2.8655 - acc: 0.2945\n",
      "Epoch 417/500\n",
      "10000/10000 [==============================] - 237s 24ms/step - loss: 2.8448 - acc: 0.2940\n",
      "Epoch 418/500\n",
      "10000/10000 [==============================] - 228s 23ms/step - loss: 2.8823 - acc: 0.2850\n",
      "Epoch 419/500\n",
      "10000/10000 [==============================] - 236s 24ms/step - loss: 2.8905 - acc: 0.2846\n",
      "Epoch 420/500\n",
      "10000/10000 [==============================] - 230s 23ms/step - loss: 2.8418 - acc: 0.2955\n",
      "Epoch 421/500\n",
      "10000/10000 [==============================] - 228s 23ms/step - loss: 2.8480 - acc: 0.2958\n",
      "Epoch 422/500\n",
      "10000/10000 [==============================] - 232s 23ms/step - loss: 2.8312 - acc: 0.3012\n",
      "Epoch 423/500\n",
      "10000/10000 [==============================] - 223s 22ms/step - loss: 2.8493 - acc: 0.2973\n",
      "Epoch 424/500\n",
      "10000/10000 [==============================] - 230s 23ms/step - loss: 2.8292 - acc: 0.3040\n",
      "Epoch 425/500\n",
      "10000/10000 [==============================] - 231s 23ms/step - loss: 2.8475 - acc: 0.2996\n",
      "Epoch 426/500\n",
      "10000/10000 [==============================] - 245s 24ms/step - loss: 2.8489 - acc: 0.2943\n",
      "Epoch 427/500\n",
      "10000/10000 [==============================] - 239s 24ms/step - loss: 2.8518 - acc: 0.2914\n",
      "Epoch 428/500\n",
      "10000/10000 [==============================] - 228s 23ms/step - loss: 2.8498 - acc: 0.2987\n",
      "Epoch 429/500\n",
      "10000/10000 [==============================] - 233s 23ms/step - loss: 2.8558 - acc: 0.2910\n",
      "Epoch 430/500\n",
      "10000/10000 [==============================] - 228s 23ms/step - loss: 2.8276 - acc: 0.3041\n",
      "Epoch 431/500\n",
      "10000/10000 [==============================] - 223s 22ms/step - loss: 2.8153 - acc: 0.3005\n",
      "Epoch 432/500\n",
      "10000/10000 [==============================] - 223s 22ms/step - loss: 2.8205 - acc: 0.2980\n",
      "Epoch 433/500\n",
      "10000/10000 [==============================] - 747s 75ms/step - loss: 2.8359 - acc: 0.3045\n",
      "Epoch 434/500\n",
      "10000/10000 [==============================] - 246s 25ms/step - loss: 2.8141 - acc: 0.2973\n",
      "Epoch 435/500\n",
      "10000/10000 [==============================] - 243s 24ms/step - loss: 2.8141 - acc: 0.2954\n",
      "Epoch 436/500\n",
      "10000/10000 [==============================] - 242s 24ms/step - loss: 2.8114 - acc: 0.3048\n",
      "Epoch 437/500\n",
      "10000/10000 [==============================] - 669s 67ms/step - loss: 2.8167 - acc: 0.3044\n",
      "Epoch 438/500\n",
      "10000/10000 [==============================] - 244s 24ms/step - loss: 2.7927 - acc: 0.3059\n",
      "Epoch 439/500\n",
      "10000/10000 [==============================] - 239s 24ms/step - loss: 2.7926 - acc: 0.3096\n",
      "Epoch 440/500\n",
      "10000/10000 [==============================] - 770s 77ms/step - loss: 2.8064 - acc: 0.3082\n",
      "Epoch 441/500\n",
      "10000/10000 [==============================] - 253s 25ms/step - loss: 2.8173 - acc: 0.3058\n",
      "Epoch 442/500\n",
      "10000/10000 [==============================] - 260s 26ms/step - loss: 2.7732 - acc: 0.3119\n",
      "Epoch 443/500\n",
      "10000/10000 [==============================] - 228s 23ms/step - loss: 2.8039 - acc: 0.3045\n",
      "Epoch 444/500\n",
      "10000/10000 [==============================] - 231s 23ms/step - loss: 2.7918 - acc: 0.3062\n",
      "Epoch 445/500\n",
      "10000/10000 [==============================] - 228s 23ms/step - loss: 2.7784 - acc: 0.3136\n",
      "Epoch 446/500\n",
      "10000/10000 [==============================] - 231s 23ms/step - loss: 2.7879 - acc: 0.3120\n",
      "Epoch 447/500\n",
      "10000/10000 [==============================] - 232s 23ms/step - loss: 2.7858 - acc: 0.3100\n",
      "Epoch 448/500\n",
      "10000/10000 [==============================] - 246s 25ms/step - loss: 2.7914 - acc: 0.3096\n",
      "Epoch 449/500\n",
      "10000/10000 [==============================] - 227s 23ms/step - loss: 2.7969 - acc: 0.3067\n",
      "Epoch 450/500\n",
      "10000/10000 [==============================] - 234s 23ms/step - loss: 2.7579 - acc: 0.3155\n",
      "Epoch 451/500\n",
      "10000/10000 [==============================] - 231s 23ms/step - loss: 2.7792 - acc: 0.3122\n",
      "Epoch 452/500\n",
      "10000/10000 [==============================] - 231s 23ms/step - loss: 2.7613 - acc: 0.3105\n",
      "Epoch 453/500\n",
      "10000/10000 [==============================] - 226s 23ms/step - loss: 2.7745 - acc: 0.3123\n",
      "Epoch 454/500\n",
      "10000/10000 [==============================] - 225s 23ms/step - loss: 2.7397 - acc: 0.3165\n",
      "Epoch 455/500\n",
      "10000/10000 [==============================] - 223s 22ms/step - loss: 2.7481 - acc: 0.3080\n",
      "Epoch 456/500\n",
      "10000/10000 [==============================] - 224s 22ms/step - loss: 2.7482 - acc: 0.3101\n",
      "Epoch 457/500\n",
      "10000/10000 [==============================] - 224s 22ms/step - loss: 2.7530 - acc: 0.3140\n",
      "Epoch 458/500\n",
      "10000/10000 [==============================] - 1315s 131ms/step - loss: 2.7631 - acc: 0.3112\n",
      "Epoch 459/500\n",
      "10000/10000 [==============================] - 728s 73ms/step - loss: 2.7646 - acc: 0.3143\n",
      "Epoch 460/500\n",
      "10000/10000 [==============================] - 230s 23ms/step - loss: 2.7346 - acc: 0.3176\n",
      "Epoch 461/500\n",
      "10000/10000 [==============================] - 231s 23ms/step - loss: 2.7357 - acc: 0.3208\n",
      "Epoch 462/500\n",
      "10000/10000 [==============================] - 234s 23ms/step - loss: 2.7402 - acc: 0.3148\n",
      "Epoch 463/500\n",
      "10000/10000 [==============================] - 225s 22ms/step - loss: 2.7411 - acc: 0.3122\n",
      "Epoch 464/500\n",
      "10000/10000 [==============================] - 224s 22ms/step - loss: 2.7405 - acc: 0.3166\n",
      "Epoch 465/500\n",
      "10000/10000 [==============================] - 224s 22ms/step - loss: 2.7712 - acc: 0.3141\n",
      "Epoch 466/500\n",
      "10000/10000 [==============================] - 225s 23ms/step - loss: 2.7176 - acc: 0.3326\n",
      "Epoch 467/500\n",
      "10000/10000 [==============================] - 644s 64ms/step - loss: 2.7311 - acc: 0.3150\n",
      "Epoch 468/500\n"
     ]
    },
    {
     "name": "stdout",
     "output_type": "stream",
     "text": [
      "10000/10000 [==============================] - 230s 23ms/step - loss: 2.7230 - acc: 0.3204\n",
      "Epoch 469/500\n",
      "10000/10000 [==============================] - 229s 23ms/step - loss: 2.7430 - acc: 0.3249\n",
      "Epoch 470/500\n",
      "10000/10000 [==============================] - 230s 23ms/step - loss: 2.7237 - acc: 0.3204\n",
      "Epoch 471/500\n",
      "10000/10000 [==============================] - 224s 22ms/step - loss: 2.7167 - acc: 0.3186\n",
      "Epoch 472/500\n",
      "10000/10000 [==============================] - 224s 22ms/step - loss: 2.6945 - acc: 0.3315\n",
      "Epoch 473/500\n",
      "10000/10000 [==============================] - 223s 22ms/step - loss: 2.7224 - acc: 0.3186\n",
      "Epoch 474/500\n",
      "10000/10000 [==============================] - 223s 22ms/step - loss: 2.6994 - acc: 0.3224\n",
      "Epoch 475/500\n",
      "10000/10000 [==============================] - 1013s 101ms/step - loss: 2.7011 - acc: 0.3248\n",
      "Epoch 476/500\n",
      "10000/10000 [==============================] - 240s 24ms/step - loss: 2.7124 - acc: 0.3185\n",
      "Epoch 477/500\n",
      "10000/10000 [==============================] - 247s 25ms/step - loss: 2.7080 - acc: 0.3243\n",
      "Epoch 478/500\n",
      "10000/10000 [==============================] - 245s 25ms/step - loss: 2.6988 - acc: 0.3207\n",
      "Epoch 479/500\n",
      "10000/10000 [==============================] - 241s 24ms/step - loss: 2.6644 - acc: 0.3355\n",
      "Epoch 480/500\n",
      "10000/10000 [==============================] - 242s 24ms/step - loss: 2.6831 - acc: 0.3296\n",
      "Epoch 481/500\n",
      "10000/10000 [==============================] - 257s 26ms/step - loss: 2.7191 - acc: 0.3224\n",
      "Epoch 482/500\n",
      "10000/10000 [==============================] - 240s 24ms/step - loss: 2.6854 - acc: 0.3242\n",
      "Epoch 483/500\n",
      "10000/10000 [==============================] - 233s 23ms/step - loss: 2.6852 - acc: 0.3265\n",
      "Epoch 484/500\n",
      "10000/10000 [==============================] - 243s 24ms/step - loss: 2.7004 - acc: 0.3243\n",
      "Epoch 485/500\n",
      "10000/10000 [==============================] - 241s 24ms/step - loss: 2.6927 - acc: 0.3268\n",
      "Epoch 486/500\n",
      "10000/10000 [==============================] - 235s 23ms/step - loss: 2.7087 - acc: 0.3237\n",
      "Epoch 487/500\n",
      "10000/10000 [==============================] - 234s 23ms/step - loss: 2.6738 - acc: 0.3302\n",
      "Epoch 488/500\n",
      "10000/10000 [==============================] - 2186s 219ms/step - loss: 2.7043 - acc: 0.3254\n",
      "Epoch 489/500\n",
      "10000/10000 [==============================] - 4102s 410ms/step - loss: 2.6682 - acc: 0.3311\n",
      "Epoch 490/500\n",
      "10000/10000 [==============================] - 228s 23ms/step - loss: 2.7010 - acc: 0.3228\n",
      "Epoch 491/500\n",
      "10000/10000 [==============================] - 228s 23ms/step - loss: 2.6527 - acc: 0.3343\n",
      "Epoch 492/500\n",
      "10000/10000 [==============================] - 226s 23ms/step - loss: 2.6981 - acc: 0.3321\n",
      "Epoch 493/500\n",
      "10000/10000 [==============================] - 224s 22ms/step - loss: 2.6400 - acc: 0.3408\n",
      "Epoch 494/500\n",
      "10000/10000 [==============================] - 225s 23ms/step - loss: 2.6812 - acc: 0.3334\n",
      "Epoch 495/500\n",
      "10000/10000 [==============================] - 232s 23ms/step - loss: 2.6972 - acc: 0.3209\n",
      "Epoch 496/500\n",
      "10000/10000 [==============================] - 230s 23ms/step - loss: 2.6607 - acc: 0.3370\n",
      "Epoch 497/500\n",
      "10000/10000 [==============================] - 230s 23ms/step - loss: 2.6514 - acc: 0.3358\n",
      "Epoch 498/500\n",
      "10000/10000 [==============================] - 229s 23ms/step - loss: 2.6615 - acc: 0.3354\n",
      "Epoch 499/500\n",
      "10000/10000 [==============================] - 231s 23ms/step - loss: 2.6600 - acc: 0.3342\n",
      "Epoch 500/500\n",
      "10000/10000 [==============================] - 229s 23ms/step - loss: 2.6289 - acc: 0.3358\n"
     ]
    }
   ],
   "source": [
    "# training model over more iterations\n",
    "history = model.fit(inputs, targets, batch_size=64, epochs=500)"
   ]
  },
  {
   "cell_type": "code",
   "execution_count": 30,
   "metadata": {
    "collapsed": true
   },
   "outputs": [],
   "source": [
    "model.save('next_words_model_01.h5')"
   ]
  },
  {
   "cell_type": "code",
   "execution_count": 31,
   "metadata": {},
   "outputs": [
    {
     "data": {
      "image/png": "[encoded data removed]",
      "text/plain": [
       "<Figure size 432x288 with 1 Axes>"
      ]
     },
     "metadata": {},
     "output_type": "display_data"
    },
    {
     "data": {
      "image/png": "[encoded data removed]",
      "text/plain": [
       "<Figure size 432x288 with 1 Axes>"
      ]
     },
     "metadata": {},
     "output_type": "display_data"
    }
   ],
   "source": [
    "acc = history.history['acc']\n",
    "loss = history.history['loss']\n",
    "\n",
    "epochs = range(1, len(acc) + 1)\n",
    "\n",
    "plt.plot(epochs, acc, 'b', label='accuracy')\n",
    "plt.title('Training Accuracy')\n",
    "plt.legend()\n",
    "\n",
    "plt.figure()\n",
    "\n",
    "plt.plot(epochs, loss, 'b', label='loss')\n",
    "plt.title('Training Loss')\n",
    "plt.legend()\n",
    "\n",
    "plt.show()"
   ]
  },
  {
   "cell_type": "code",
   "execution_count": 32,
   "metadata": {
    "collapsed": true
   },
   "outputs": [],
   "source": [
    "from pickle import dump\n",
    "dump(tokenizer, open('tokenizer.pkl','wb'))"
   ]
  },
  {
   "cell_type": "code",
   "execution_count": 33,
   "metadata": {},
   "outputs": [
    {
     "data": {
      "text/plain": [
       "10000"
      ]
     },
     "execution_count": 33,
     "metadata": {},
     "output_type": "execute_result"
    }
   ],
   "source": [
    "len(seqs)"
   ]
  },
  {
   "cell_type": "code",
   "execution_count": 34,
   "metadata": {
    "collapsed": true
   },
   "outputs": [],
   "source": [
    "seq_length = len(seqs[0].split()) - 1"
   ]
  },
  {
   "cell_type": "markdown",
   "metadata": {},
   "source": [
    "model = load_model('language_1.h5')"
   ]
  },
  {
   "cell_type": "code",
   "execution_count": 35,
   "metadata": {},
   "outputs": [
    {
     "data": {
      "text/plain": [
       "50"
      ]
     },
     "execution_count": 35,
     "metadata": {},
     "output_type": "execute_result"
    }
   ],
   "source": [
    "seq_length"
   ]
  },
  {
   "cell_type": "code",
   "execution_count": 36,
   "metadata": {
    "collapsed": true
   },
   "outputs": [],
   "source": [
    "from pickle import load\n",
    "tokeniser = load(open('tokenizer.pkl','rb'))"
   ]
  },
  {
   "cell_type": "code",
   "execution_count": 37,
   "metadata": {},
   "outputs": [],
   "source": [
    "import random\n",
    "seed_text = seqs[random.randint(0,len(seqs))]"
   ]
  },
  {
   "cell_type": "code",
   "execution_count": 38,
   "metadata": {},
   "outputs": [
    {
     "name": "stdout",
     "output_type": "stream",
     "text": [
      "restful death cry behold desert beggar born needy nothing trimmed jollity purest faith unhappily forsworn gilded honour shamefully misplaced maiden virtue rudely strumpeted right perfection wrongfully disgraced strength limping sway disabled art made tonguetied authority folly doctorlike controlling skill simple truth miscalled simplicity captive good attending captain ill tired would gone\n",
      "\n"
     ]
    }
   ],
   "source": [
    "print(seed_text + '\\n')"
   ]
  },
  {
   "cell_type": "code",
   "execution_count": 39,
   "metadata": {
    "collapsed": true
   },
   "outputs": [],
   "source": [
    "from keras.preprocessing.sequence import pad_sequences\n",
    "\n",
    "def generate_sequence(model, tokeniser, seq_length, seed_text, n_words):\n",
    "    result = []\n",
    "    in_text = seed_text\n",
    "    print (in_text)\n",
    "    for _ in range(n_words):\n",
    "        encoded = tokeniser.texts_to_sequences([in_text])[0]\n",
    "        encoded = encoded#[1:]\n",
    "        #encoded_text = np.array(encoded)\n",
    "        #encoded_text = encoded_text.reshape(1,-1)\n",
    "        #rint(encoded_text.shape)\n",
    "        encoded_text = pad_sequences([encoded], maxlen=seq_length, truncating='pre')\n",
    "        pred = model.predict_classes(encoded_text, verbose=0)\n",
    "        predicted_word = ''\n",
    "        for word, index in tokenizer.word_index.items():\n",
    "            if index == pred:\n",
    "                predicted_word = word\n",
    "                break\n",
    "        in_text += ' ' + predicted_word\n",
    "        result.append(predicted_word)\n",
    "    return ' '.join(result)"
   ]
  },
  {
   "cell_type": "code",
   "execution_count": 40,
   "metadata": {},
   "outputs": [
    {
     "name": "stdout",
     "output_type": "stream",
     "text": [
      "restful death cry behold desert beggar born needy nothing trimmed jollity purest faith unhappily forsworn gilded honour shamefully misplaced maiden virtue rudely strumpeted right perfection wrongfully disgraced strength limping sway disabled art made tonguetied authority folly doctorlike controlling skill simple truth miscalled simplicity captive good attending captain ill tired would gone\n"
     ]
    }
   ],
   "source": [
    "n_words = 50\n",
    "generated_sequence = generate_sequence(model, tokeniser, seq_length, seed_text, n_words)"
   ]
  },
  {
   "cell_type": "code",
   "execution_count": 41,
   "metadata": {},
   "outputs": [
    {
     "name": "stdout",
     "output_type": "stream",
     "text": [
      "save youth fool thy alone youth time fair four two alone sink death oppressed melancholy life composition recured swift messenger returned thee even like engraft new uphold stormy wretch man doth teeming lovegod captain man mortality bertram countess time helena majesty passage divert sight hath count countess time good paris\n"
     ]
    }
   ],
   "source": [
    "print(generated_sequence)"
   ]
  }
 ],
 "metadata": {
  "kernelspec": {
   "display_name": "Python 3",
   "language": "python",
   "name": "python3"
  },
  "language_info": {
   "codemirror_mode": {
    "name": "ipython",
    "version": 3
   },
   "file_extension": ".py",
   "mimetype": "text/x-python",
   "name": "python",
   "nbconvert_exporter": "python",
   "pygments_lexer": "ipython3",
   "version": "3.6.7"
  }
 },
 "nbformat": 4,
 "nbformat_minor": 2
}
