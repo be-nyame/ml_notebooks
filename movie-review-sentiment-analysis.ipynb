{
 "cells": [
  {
   "cell_type": "markdown",
   "metadata": {},
   "source": [
    "# MOVIE REVIEW SENTIMENT ANALYSIS WITH LSTM"
   ]
  },
  {
   "cell_type": "markdown",
   "metadata": {},
   "source": [
    "# Classifying the sentiment of phrases from the Rotten Tomatoes datasets"
   ]
  },
  {
   "cell_type": "markdown",
   "metadata": {},
   "source": [
    "Phrases are labelled on a scale of five values(0,1,2,3,4): negative, somewhat negative, neutral, somewhat positive and  positive respectively. Data comes with 3 features: PhraseId, SentenceId, and Phrase."
   ]
  },
  {
   "cell_type": "markdown",
   "metadata": {},
   "source": [
    "The model makes use of 1 feature(Phrase) out of the 3. The model is built with keras framework with tensorflow as backend. A recurrent neural network with LSTM cells are used for the model."
   ]
  },
  {
   "cell_type": "code",
   "execution_count": 1,
   "metadata": {},
   "outputs": [
    {
     "name": "stderr",
     "output_type": "stream",
     "text": [
      "E:\\Anaconda3\\lib\\site-packages\\h5py\\__init__.py:34: FutureWarning: Conversion of the second argument of issubdtype from `float` to `np.floating` is deprecated. In future, it will be treated as `np.float64 == np.dtype(float).type`.\n",
      "  from ._conv import register_converters as _register_converters\n",
      "Using TensorFlow backend.\n"
     ]
    }
   ],
   "source": [
    "# importing necessary libraries\n",
    "% matplotlib inline\n",
    "from matplotlib import pyplot as plt\n",
    "import numpy as np\n",
    "import pandas as pd\n",
    "import os\n",
    "import string\n",
    "from sklearn.model_selection import train_test_split\n",
    "from keras.preprocessing.text import Tokenizer\n",
    "from keras.preprocessing import sequence\n",
    "from keras.utils import to_categorical\n",
    "from keras.models import Sequential\n",
    "from keras.layers import Embedding, LSTM, Dense\n",
    "from keras import layers\n",
    "from keras.models import load_model "
   ]
  },
  {
   "cell_type": "code",
   "execution_count": 2,
   "metadata": {
    "collapsed": true
   },
   "outputs": [],
   "source": [
    "# loading data\n",
    "def load_data(file):\n",
    "    with open(file, 'r') as f:\n",
    "        texts = f.read()\n",
    "    return texts\n",
    "data_dir = 'textsets/movie_sentiment_data' \n",
    "data_file = 'train.tsv'\n",
    "file = os.path.join(data_dir, data_file)\n",
    "data = load_data(file)"
   ]
  },
  {
   "cell_type": "code",
   "execution_count": 3,
   "metadata": {},
   "outputs": [],
   "source": [
    "# data formatting\n",
    "data = data.split('\\n')\n",
    "data = [x.split('\\t') for x in data if len(x)>=1]"
   ]
  },
  {
   "cell_type": "code",
   "execution_count": 4,
   "metadata": {},
   "outputs": [
    {
     "data": {
      "text/plain": [
       "[['PhraseId', 'SentenceId', 'Phrase', 'Sentiment'],\n",
       " ['1',\n",
       "  '1',\n",
       "  'A series of escapades demonstrating the adage that what is good for the goose is also good for the gander , some of which occasionally amuses but none of which amounts to much of a story .',\n",
       "  '1'],\n",
       " ['2',\n",
       "  '1',\n",
       "  'A series of escapades demonstrating the adage that what is good for the goose',\n",
       "  '2'],\n",
       " ['3', '1', 'A series', '2'],\n",
       " ['4', '1', 'A', '2']]"
      ]
     },
     "execution_count": 4,
     "metadata": {},
     "output_type": "execute_result"
    }
   ],
   "source": [
    "# showing first five lines\n",
    "data[:5]"
   ]
  },
  {
   "cell_type": "code",
   "execution_count": 5,
   "metadata": {},
   "outputs": [],
   "source": [
    "# converting to dataframe\n",
    "dframe = pd.DataFrame(data[1:], columns=data[0]) "
   ]
  },
  {
   "cell_type": "code",
   "execution_count": 6,
   "metadata": {},
   "outputs": [
    {
     "data": {
      "text/html": [
       "<div>\n",
       "<style>\n",
       "    .dataframe thead tr:only-child th {\n",
       "        text-align: right;\n",
       "    }\n",
       "\n",
       "    .dataframe thead th {\n",
       "        text-align: left;\n",
       "    }\n",
       "\n",
       "    .dataframe tbody tr th {\n",
       "        vertical-align: top;\n",
       "    }\n",
       "</style>\n",
       "<table border=\"1\" class=\"dataframe\">\n",
       "  <thead>\n",
       "    <tr style=\"text-align: right;\">\n",
       "      <th></th>\n",
       "      <th>PhraseId</th>\n",
       "      <th>SentenceId</th>\n",
       "      <th>Phrase</th>\n",
       "      <th>Sentiment</th>\n",
       "    </tr>\n",
       "  </thead>\n",
       "  <tbody>\n",
       "    <tr>\n",
       "      <th>0</th>\n",
       "      <td>1</td>\n",
       "      <td>1</td>\n",
       "      <td>A series of escapades demonstrating the adage ...</td>\n",
       "      <td>1</td>\n",
       "    </tr>\n",
       "    <tr>\n",
       "      <th>1</th>\n",
       "      <td>2</td>\n",
       "      <td>1</td>\n",
       "      <td>A series of escapades demonstrating the adage ...</td>\n",
       "      <td>2</td>\n",
       "    </tr>\n",
       "    <tr>\n",
       "      <th>2</th>\n",
       "      <td>3</td>\n",
       "      <td>1</td>\n",
       "      <td>A series</td>\n",
       "      <td>2</td>\n",
       "    </tr>\n",
       "    <tr>\n",
       "      <th>3</th>\n",
       "      <td>4</td>\n",
       "      <td>1</td>\n",
       "      <td>A</td>\n",
       "      <td>2</td>\n",
       "    </tr>\n",
       "    <tr>\n",
       "      <th>4</th>\n",
       "      <td>5</td>\n",
       "      <td>1</td>\n",
       "      <td>series</td>\n",
       "      <td>2</td>\n",
       "    </tr>\n",
       "  </tbody>\n",
       "</table>\n",
       "</div>"
      ],
      "text/plain": [
       "  PhraseId SentenceId                                             Phrase  \\\n",
       "0        1          1  A series of escapades demonstrating the adage ...   \n",
       "1        2          1  A series of escapades demonstrating the adage ...   \n",
       "2        3          1                                           A series   \n",
       "3        4          1                                                  A   \n",
       "4        5          1                                             series   \n",
       "\n",
       "  Sentiment  \n",
       "0         1  \n",
       "1         2  \n",
       "2         2  \n",
       "3         2  \n",
       "4         2  "
      ]
     },
     "execution_count": 6,
     "metadata": {},
     "output_type": "execute_result"
    }
   ],
   "source": [
    "# showing first five lines\n",
    "dframe.head() "
   ]
  },
  {
   "cell_type": "code",
   "execution_count": 7,
   "metadata": {},
   "outputs": [
    {
     "name": "stdout",
     "output_type": "stream",
     "text": [
      "0    A series of escapades demonstrating the adage ...\n",
      "1    A series of escapades demonstrating the adage ...\n",
      "2                                             A series\n",
      "3                                                    A\n",
      "4                                               series\n",
      "Name: Phrase, dtype: object\n",
      "0    1\n",
      "1    2\n",
      "2    2\n",
      "3    2\n",
      "4    2\n",
      "Name: Sentiment, dtype: object\n"
     ]
    }
   ],
   "source": [
    "# selecting features and labels\n",
    "text_data = dframe['Phrase']\n",
    "targets = dframe['Sentiment']\n",
    "print(text_data.head())\n",
    "print(targets.head())"
   ]
  },
  {
   "cell_type": "code",
   "execution_count": 8,
   "metadata": {},
   "outputs": [
    {
     "data": {
      "text/plain": [
       "2    79582\n",
       "3    32927\n",
       "1    27273\n",
       "4     9206\n",
       "0     7072\n",
       "Name: Sentiment, dtype: int64"
      ]
     },
     "execution_count": 8,
     "metadata": {},
     "output_type": "execute_result"
    }
   ],
   "source": [
    "# checking each label's frequency\n",
    "targets.value_counts()"
   ]
  },
  {
   "cell_type": "code",
   "execution_count": 9,
   "metadata": {},
   "outputs": [
    {
     "data": {
      "text/plain": [
       "156060"
      ]
     },
     "execution_count": 9,
     "metadata": {},
     "output_type": "execute_result"
    }
   ],
   "source": [
    "# checking size of features\n",
    "len(text_data)"
   ]
  },
  {
   "cell_type": "code",
   "execution_count": 10,
   "metadata": {},
   "outputs": [
    {
     "data": {
      "text/plain": [
       "156060"
      ]
     },
     "execution_count": 10,
     "metadata": {},
     "output_type": "execute_result"
    }
   ],
   "source": [
    "# checking size of labels\n",
    "len(targets)"
   ]
  },
  {
   "cell_type": "code",
   "execution_count": 11,
   "metadata": {
    "collapsed": true
   },
   "outputs": [],
   "source": [
    "# cleaning texts\n",
    "def clean_texts(text_data):\n",
    "    texts = [x.lower() for x in text_data]\n",
    "     # Removing numbers\n",
    "    digits = '0123456789'\n",
    "    texts = [''.join(c for c in x if c not in digits) for x in texts]\n",
    "    # Removing punctuation\n",
    "    texts = [''.join(c for c in x if c not in string.punctuation)\n",
    "                 for x in texts]\n",
    "    # Trimming extra whitespace\n",
    "    texts = [' '.join(x.split()) for x in texts]\n",
    "    return texts\n",
    "texts = clean_texts(text_data) "
   ]
  },
  {
   "cell_type": "code",
   "execution_count": 12,
   "metadata": {},
   "outputs": [
    {
     "data": {
      "text/plain": [
       "156060"
      ]
     },
     "execution_count": 12,
     "metadata": {},
     "output_type": "execute_result"
    }
   ],
   "source": [
    "len(texts)"
   ]
  },
  {
   "cell_type": "code",
   "execution_count": 13,
   "metadata": {},
   "outputs": [
    {
     "data": {
      "text/plain": [
       "'a series of escapades demonstrating the adage that what is good for the goose'"
      ]
     },
     "execution_count": 13,
     "metadata": {},
     "output_type": "execute_result"
    }
   ],
   "source": [
    "texts[1]"
   ]
  },
  {
   "cell_type": "code",
   "execution_count": 14,
   "metadata": {
    "collapsed": true
   },
   "outputs": [],
   "source": [
    "# splitting data into 75% train and 25% validation data\n",
    "texts_train, texts_val, target_train, target_val = train_test_split(\n",
    "    texts, targets, random_state=42)  "
   ]
  },
  {
   "cell_type": "markdown",
   "metadata": {},
   "source": [
    "Data is divided into words of tokens with a vocabulary of 10,000 words and vectorized with digits for easy modelling.   "
   ]
  },
  {
   "cell_type": "code",
   "execution_count": 15,
   "metadata": {},
   "outputs": [],
   "source": [
    "# splitting texts into tokens\n",
    "tokenizer = Tokenizer(num_words=10000)\n",
    "tokenizer.fit_on_texts(texts_train)\n",
    "# changing tokens into into sequence of numbers\n",
    "train_data_seq = tokenizer.texts_to_sequences(texts_train)\n",
    "val_data_seq = tokenizer.texts_to_sequences(texts_val)"
   ]
  },
  {
   "cell_type": "code",
   "execution_count": 16,
   "metadata": {},
   "outputs": [],
   "source": [
    "# padding sequence of numbers with sequence lenght of 50\n",
    "seq_len = 50\n",
    "train_texts = sequence.pad_sequences(train_data_seq, maxlen=seq_len)\n",
    "val_texts = sequence.pad_sequences(val_data_seq, maxlen=seq_len)"
   ]
  },
  {
   "cell_type": "code",
   "execution_count": 17,
   "metadata": {},
   "outputs": [
    {
     "name": "stdout",
     "output_type": "stream",
     "text": [
      "train data shape: (117045, 50)\n",
      "validation data shape: (39015, 50)\n"
     ]
    }
   ],
   "source": [
    "print('train data shape:', train_texts.shape)\n",
    "print('validation data shape:', val_texts.shape)"
   ]
  },
  {
   "cell_type": "code",
   "execution_count": 18,
   "metadata": {},
   "outputs": [],
   "source": [
    "# one-hot encoding labels into size of class\n",
    "num_classes = 5\n",
    "train_target = to_categorical(target_train, num_classes=num_classes)\n",
    "val_target = to_categorical(target_val, num_classes=num_classes)"
   ]
  },
  {
   "cell_type": "markdown",
   "metadata": {},
   "source": [
    "Model architecture starts with an input layer of word embeddings. Followed by an LSTM layer with 32 nodes(arbitrary size). Next is a Dense layer of 32 nodes(arbitrary size) with a relu non-linear activation and finally an output dense layer of 5 nodes(according to the number of classes in the labels) with a softmax non-linear activation. In all there are 4 layers."
   ]
  },
  {
   "cell_type": "code",
   "execution_count": 19,
   "metadata": {
    "collapsed": true
   },
   "outputs": [],
   "source": [
    "# defining model architecture\n",
    "out_dim = 128\n",
    "n_units = 32\n",
    "vocab_size = 10000\n",
    "model = Sequential()\n",
    "model.add(Embedding(vocab_size, out_dim, input_length=seq_len))\n",
    "model.add(LSTM(n_units))\n",
    "model.add(Dense(n_units, activation='relu'))\n",
    "model.add(Dense(num_classes, activation='softmax'))  "
   ]
  },
  {
   "cell_type": "code",
   "execution_count": 20,
   "metadata": {},
   "outputs": [
    {
     "name": "stdout",
     "output_type": "stream",
     "text": [
      "_________________________________________________________________\n",
      "Layer (type)                 Output Shape              Param #   \n",
      "=================================================================\n",
      "embedding_1 (Embedding)      (None, 50, 128)           1280000   \n",
      "_________________________________________________________________\n",
      "lstm_1 (LSTM)                (None, 32)                20608     \n",
      "_________________________________________________________________\n",
      "dense_1 (Dense)              (None, 32)                1056      \n",
      "_________________________________________________________________\n",
      "dense_2 (Dense)              (None, 5)                 165       \n",
      "=================================================================\n",
      "Total params: 1,301,829\n",
      "Trainable params: 1,301,829\n",
      "Non-trainable params: 0\n",
      "_________________________________________________________________\n"
     ]
    }
   ],
   "source": [
    "# displaying model achitecture\n",
    "model.summary()"
   ]
  },
  {
   "cell_type": "markdown",
   "metadata": {},
   "source": [
    "Model is compiled with a categorical crossentropy loss function (5 output probabilities), an RMSPROP algorithm with default learning rate of 0.001 for optimizing and evaluated with an accuracy metric."
   ]
  },
  {
   "cell_type": "code",
   "execution_count": 21,
   "metadata": {
    "collapsed": true
   },
   "outputs": [],
   "source": [
    "# defining model evaluation parameters\n",
    "model.compile(loss='categorical_crossentropy', optimizer='rmsprop',\n",
    "              metrics=['accuracy'])"
   ]
  },
  {
   "cell_type": "markdown",
   "metadata": {},
   "source": [
    "Model is trained on mini batch size of 128 for each complete forward and back propagation for a total of 3 complete processes (epochs) and validated on the validation data"
   ]
  },
  {
   "cell_type": "code",
   "execution_count": 22,
   "metadata": {},
   "outputs": [
    {
     "name": "stdout",
     "output_type": "stream",
     "text": [
      "Train on 117045 samples, validate on 39015 samples\n",
      "Epoch 1/3\n",
      "117045/117045 [==============================] - 2525s 22ms/step - loss: 1.0472 - acc: 0.5826 - val_loss: 0.9173 - val_acc: 0.6323\n",
      "Epoch 2/3\n",
      "117045/117045 [==============================] - 2349s 20ms/step - loss: 0.8684 - acc: 0.6523 - val_loss: 0.8760 - val_acc: 0.6472\n",
      "Epoch 3/3\n",
      "117045/117045 [==============================] - 2188s 19ms/step - loss: 0.8228 - acc: 0.6732 - val_loss: 0.8739 - val_acc: 0.6521\n"
     ]
    }
   ],
   "source": [
    "# model training for 3 epochs\n",
    "history = model.fit(train_texts, train_target, \n",
    "                    batch_size=128, epochs=3,\n",
    "                    validation_data=(val_texts, val_target))"
   ]
  },
  {
   "cell_type": "code",
   "execution_count": 23,
   "metadata": {
    "collapsed": true
   },
   "outputs": [],
   "source": [
    "# saving first trained model\n",
    "model.save('movie_review_01.h5')"
   ]
  },
  {
   "cell_type": "code",
   "execution_count": 24,
   "metadata": {},
   "outputs": [
    {
     "data": {
      "image/png": "[encoded data removed]",
      "text/plain": [
       "<Figure size 432x288 with 1 Axes>"
      ]
     },
     "metadata": {},
     "output_type": "display_data"
    },
    {
     "data": {
      "image/png": "[encoded data removed]",
      "text/plain": [
       "<Figure size 432x288 with 1 Axes>"
      ]
     },
     "metadata": {},
     "output_type": "display_data"
    }
   ],
   "source": [
    "# plotting training and validation accuracy and losses\n",
    "acc = history.history['acc']\n",
    "val_acc = history.history['val_acc']\n",
    "loss = history.history['loss']\n",
    "val_loss = history.history['val_loss']\n",
    "\n",
    "epochs = range(1, len(acc) + 1)\n",
    "\n",
    "plt.plot(epochs, acc, 'bo', label='Training acc')\n",
    "plt.plot(epochs, val_acc, 'b', label='Validation acc')\n",
    "plt.title('Training and validation accuracy')\n",
    "plt.legend()\n",
    "\n",
    "plt.figure()\n",
    "\n",
    "plt.plot(epochs, loss, 'bo', label='Training loss')\n",
    "plt.plot(epochs, val_loss, 'b', label='Validation loss')\n",
    "plt.title('Training and validation loss')\n",
    "plt.legend()\n",
    "\n",
    "plt.show()"
   ]
  },
  {
   "cell_type": "markdown",
   "metadata": {},
   "source": [
    "Model architecture is modified by adding an extra LSTM layer with dropouts of 0.2 added to each hidden layer to handle overfitting of the model. "
   ]
  },
  {
   "cell_type": "code",
   "execution_count": 25,
   "metadata": {},
   "outputs": [],
   "source": [
    "# new model architecture with extra LSTM layer and dropouts\n",
    "out_dim = 128\n",
    "n_units = 32\n",
    "vocab_size = 10000\n",
    "model = Sequential()\n",
    "model.add(Embedding(vocab_size, out_dim, input_length=seq_len))\n",
    "model.add(LSTM(n_units, return_sequences=True))\n",
    "model.add(layers.Dropout(0.2))\n",
    "model.add(LSTM(n_units))\n",
    "model.add(layers.Dropout(0.2))\n",
    "model.add(Dense(n_units, activation='relu'))\n",
    "model.add(layers.Dropout(0.2))\n",
    "model.add(Dense(num_classes, activation='softmax'))  "
   ]
  },
  {
   "cell_type": "code",
   "execution_count": 26,
   "metadata": {},
   "outputs": [
    {
     "name": "stdout",
     "output_type": "stream",
     "text": [
      "_________________________________________________________________\n",
      "Layer (type)                 Output Shape              Param #   \n",
      "=================================================================\n",
      "embedding_2 (Embedding)      (None, 50, 128)           1280000   \n",
      "_________________________________________________________________\n",
      "lstm_2 (LSTM)                (None, 50, 32)            20608     \n",
      "_________________________________________________________________\n",
      "dropout_1 (Dropout)          (None, 50, 32)            0         \n",
      "_________________________________________________________________\n",
      "lstm_3 (LSTM)                (None, 32)                8320      \n",
      "_________________________________________________________________\n",
      "dropout_2 (Dropout)          (None, 32)                0         \n",
      "_________________________________________________________________\n",
      "dense_3 (Dense)              (None, 32)                1056      \n",
      "_________________________________________________________________\n",
      "dropout_3 (Dropout)          (None, 32)                0         \n",
      "_________________________________________________________________\n",
      "dense_4 (Dense)              (None, 5)                 165       \n",
      "=================================================================\n",
      "Total params: 1,310,149\n",
      "Trainable params: 1,310,149\n",
      "Non-trainable params: 0\n",
      "_________________________________________________________________\n"
     ]
    }
   ],
   "source": [
    "model.summary()"
   ]
  },
  {
   "cell_type": "code",
   "execution_count": 27,
   "metadata": {
    "collapsed": true
   },
   "outputs": [],
   "source": [
    "model.compile(loss='categorical_crossentropy',\n",
    "              optimizer='rmsprop', metrics= ['accuracy'])"
   ]
  },
  {
   "cell_type": "code",
   "execution_count": 28,
   "metadata": {},
   "outputs": [
    {
     "name": "stdout",
     "output_type": "stream",
     "text": [
      "Train on 117045 samples, validate on 39015 samples\n",
      "Epoch 1/5\n",
      "117045/117045 [==============================] - 4188s 36ms/step - loss: 1.1084 - acc: 0.5664 - val_loss: 0.9477 - val_acc: 0.6192\n",
      "Epoch 2/5\n",
      "117045/117045 [==============================] - 3708s 32ms/step - loss: 0.9051 - acc: 0.6421 - val_loss: 0.8875 - val_acc: 0.6440\n",
      "Epoch 3/5\n",
      "117045/117045 [==============================] - 3676s 31ms/step - loss: 0.8513 - acc: 0.6656 - val_loss: 0.8671 - val_acc: 0.6532\n",
      "Epoch 4/5\n",
      "117045/117045 [==============================] - 3683s 31ms/step - loss: 0.8202 - acc: 0.6794 - val_loss: 0.8527 - val_acc: 0.6601\n",
      "Epoch 5/5\n",
      "117045/117045 [==============================] - 3870s 33ms/step - loss: 0.7958 - acc: 0.6895 - val_loss: 0.8543 - val_acc: 0.6614\n"
     ]
    }
   ],
   "source": [
    "# training model for 5 epochs\n",
    "history = model.fit(train_texts, train_target,\n",
    "                   batch_size=128, epochs=5,\n",
    "                   validation_data=(val_texts, val_target))"
   ]
  },
  {
   "cell_type": "code",
   "execution_count": 29,
   "metadata": {
    "collapsed": true
   },
   "outputs": [],
   "source": [
    "model.save('movie_review_02.h5')"
   ]
  },
  {
   "cell_type": "code",
   "execution_count": 30,
   "metadata": {
    "collapsed": true
   },
   "outputs": [],
   "source": [
    "# loading data for testing\n",
    "test_file = 'test.tsv'\n",
    "file = os.path.join(data_dir, test_file)\n",
    "test_data = load_data(file)"
   ]
  },
  {
   "cell_type": "code",
   "execution_count": 31,
   "metadata": {},
   "outputs": [
    {
     "data": {
      "text/plain": [
       "3367149"
      ]
     },
     "execution_count": 31,
     "metadata": {},
     "output_type": "execute_result"
    }
   ],
   "source": [
    "len(test_data)"
   ]
  },
  {
   "cell_type": "code",
   "execution_count": 32,
   "metadata": {},
   "outputs": [
    {
     "data": {
      "text/plain": [
       "'h'"
      ]
     },
     "execution_count": 32,
     "metadata": {},
     "output_type": "execute_result"
    }
   ],
   "source": [
    "test_data[1]"
   ]
  },
  {
   "cell_type": "code",
   "execution_count": 33,
   "metadata": {
    "collapsed": true
   },
   "outputs": [],
   "source": [
    "# formatting test data\n",
    "test_data = test_data.split('\\n')\n",
    "test_data = [x.split('\\t') for x in test_data if len(x)>=1]"
   ]
  },
  {
   "cell_type": "code",
   "execution_count": 34,
   "metadata": {},
   "outputs": [
    {
     "data": {
      "text/plain": [
       "[['PhraseId', 'SentenceId', 'Phrase'],\n",
       " ['156061', '8545', 'An intermittently pleasing but mostly routine effort .'],\n",
       " ['156062', '8545', 'An intermittently pleasing but mostly routine effort'],\n",
       " ['156063', '8545', 'An'],\n",
       " ['156064', '8545', 'intermittently pleasing but mostly routine effort']]"
      ]
     },
     "execution_count": 34,
     "metadata": {},
     "output_type": "execute_result"
    }
   ],
   "source": [
    "test_data[:5]"
   ]
  },
  {
   "cell_type": "code",
   "execution_count": 35,
   "metadata": {},
   "outputs": [
    {
     "data": {
      "text/plain": [
       "[['222348', '11855', 'A long-winded , predictable scenario .'],\n",
       " ['222349', '11855', 'A long-winded , predictable scenario'],\n",
       " ['222350', '11855', 'A long-winded ,'],\n",
       " ['222351', '11855', 'A long-winded'],\n",
       " ['222352', '11855', 'predictable scenario']]"
      ]
     },
     "execution_count": 35,
     "metadata": {},
     "output_type": "execute_result"
    }
   ],
   "source": [
    "test_data[-5:]"
   ]
  },
  {
   "cell_type": "code",
   "execution_count": 36,
   "metadata": {},
   "outputs": [
    {
     "data": {
      "text/plain": [
       "66293"
      ]
     },
     "execution_count": 36,
     "metadata": {},
     "output_type": "execute_result"
    }
   ],
   "source": [
    "len(test_data)"
   ]
  },
  {
   "cell_type": "code",
   "execution_count": 37,
   "metadata": {
    "collapsed": true
   },
   "outputs": [],
   "source": [
    "tframe = pd.DataFrame(test_data[1:], columns=test_data[0])"
   ]
  },
  {
   "cell_type": "code",
   "execution_count": 38,
   "metadata": {},
   "outputs": [
    {
     "data": {
      "text/html": [
       "<div>\n",
       "<style>\n",
       "    .dataframe thead tr:only-child th {\n",
       "        text-align: right;\n",
       "    }\n",
       "\n",
       "    .dataframe thead th {\n",
       "        text-align: left;\n",
       "    }\n",
       "\n",
       "    .dataframe tbody tr th {\n",
       "        vertical-align: top;\n",
       "    }\n",
       "</style>\n",
       "<table border=\"1\" class=\"dataframe\">\n",
       "  <thead>\n",
       "    <tr style=\"text-align: right;\">\n",
       "      <th></th>\n",
       "      <th>PhraseId</th>\n",
       "      <th>SentenceId</th>\n",
       "      <th>Phrase</th>\n",
       "    </tr>\n",
       "  </thead>\n",
       "  <tbody>\n",
       "    <tr>\n",
       "      <th>0</th>\n",
       "      <td>156061</td>\n",
       "      <td>8545</td>\n",
       "      <td>An intermittently pleasing but mostly routine ...</td>\n",
       "    </tr>\n",
       "    <tr>\n",
       "      <th>1</th>\n",
       "      <td>156062</td>\n",
       "      <td>8545</td>\n",
       "      <td>An intermittently pleasing but mostly routine ...</td>\n",
       "    </tr>\n",
       "    <tr>\n",
       "      <th>2</th>\n",
       "      <td>156063</td>\n",
       "      <td>8545</td>\n",
       "      <td>An</td>\n",
       "    </tr>\n",
       "    <tr>\n",
       "      <th>3</th>\n",
       "      <td>156064</td>\n",
       "      <td>8545</td>\n",
       "      <td>intermittently pleasing but mostly routine effort</td>\n",
       "    </tr>\n",
       "    <tr>\n",
       "      <th>4</th>\n",
       "      <td>156065</td>\n",
       "      <td>8545</td>\n",
       "      <td>intermittently pleasing but mostly routine</td>\n",
       "    </tr>\n",
       "  </tbody>\n",
       "</table>\n",
       "</div>"
      ],
      "text/plain": [
       "  PhraseId SentenceId                                             Phrase\n",
       "0   156061       8545  An intermittently pleasing but mostly routine ...\n",
       "1   156062       8545  An intermittently pleasing but mostly routine ...\n",
       "2   156063       8545                                                 An\n",
       "3   156064       8545  intermittently pleasing but mostly routine effort\n",
       "4   156065       8545         intermittently pleasing but mostly routine"
      ]
     },
     "execution_count": 38,
     "metadata": {},
     "output_type": "execute_result"
    }
   ],
   "source": [
    "tframe.head()"
   ]
  },
  {
   "cell_type": "code",
   "execution_count": 39,
   "metadata": {
    "collapsed": true
   },
   "outputs": [],
   "source": [
    "test_phrases = tframe['Phrase']"
   ]
  },
  {
   "cell_type": "code",
   "execution_count": 40,
   "metadata": {},
   "outputs": [
    {
     "name": "stdout",
     "output_type": "stream",
     "text": [
      "0    An intermittently pleasing but mostly routine ...\n",
      "1    An intermittently pleasing but mostly routine ...\n",
      "2                                                   An\n",
      "3    intermittently pleasing but mostly routine effort\n",
      "4           intermittently pleasing but mostly routine\n",
      "Name: Phrase, dtype: object\n",
      "66287    A long-winded , predictable scenario .\n",
      "66288      A long-winded , predictable scenario\n",
      "66289                           A long-winded ,\n",
      "66290                             A long-winded\n",
      "66291                      predictable scenario\n",
      "Name: Phrase, dtype: object\n"
     ]
    }
   ],
   "source": [
    "print(test_phrases.head())\n",
    "print(test_phrases.tail())"
   ]
  },
  {
   "cell_type": "code",
   "execution_count": 41,
   "metadata": {
    "collapsed": true
   },
   "outputs": [],
   "source": [
    "test_phrase = clean_texts(test_phrases)"
   ]
  },
  {
   "cell_type": "code",
   "execution_count": 42,
   "metadata": {},
   "outputs": [
    {
     "name": "stdout",
     "output_type": "stream",
     "text": [
      "66292\n",
      "an intermittently pleasing but mostly routine effort\n"
     ]
    }
   ],
   "source": [
    "print(len(test_phrase))\n",
    "print(test_phrase[1])"
   ]
  },
  {
   "cell_type": "code",
   "execution_count": 43,
   "metadata": {
    "collapsed": true
   },
   "outputs": [],
   "source": [
    "test_data_seq = tokenizer.texts_to_sequences(test_phrase)"
   ]
  },
  {
   "cell_type": "code",
   "execution_count": 44,
   "metadata": {
    "collapsed": true
   },
   "outputs": [],
   "source": [
    "test_pad = sequence.pad_sequences(test_data_seq, maxlen=seq_len)"
   ]
  },
  {
   "cell_type": "code",
   "execution_count": 46,
   "metadata": {},
   "outputs": [],
   "source": [
    "model = load_model('movie_review_02.h5')"
   ]
  },
  {
   "cell_type": "code",
   "execution_count": 47,
   "metadata": {
    "collapsed": true
   },
   "outputs": [],
   "source": [
    "# predicting test phrases\n",
    "predicted = model.predict_classes(test_pad, verbose=0)"
   ]
  },
  {
   "cell_type": "code",
   "execution_count": 50,
   "metadata": {},
   "outputs": [
    {
     "name": "stdout",
     "output_type": "stream",
     "text": [
      "Phrase:An intermittently pleasing but mostly routine effort . | Sentiment:2\n",
      "Phrase:An intermittently pleasing but mostly routine effort | Sentiment:2\n",
      "Phrase:An | Sentiment:2\n",
      "Phrase:intermittently pleasing but mostly routine effort | Sentiment:2\n",
      "Phrase:intermittently pleasing but mostly routine | Sentiment:2\n"
     ]
    }
   ],
   "source": [
    "# showing predicted sentiments\n",
    "for i in range(5):\n",
    "    print('Phrase:{} | Sentiment:{}'.format(\n",
    "        test_phrases[i], predicted[i]))"
   ]
  }
 ],
 "metadata": {
  "kernelspec": {
   "display_name": "Python 3",
   "language": "python",
   "name": "python3"
  },
  "language_info": {
   "codemirror_mode": {
    "name": "ipython",
    "version": 3
   },
   "file_extension": ".py",
   "mimetype": "text/x-python",
   "name": "python",
   "nbconvert_exporter": "python",
   "pygments_lexer": "ipython3",
   "version": "3.6.7"
  }
 },
 "nbformat": 4,
 "nbformat_minor": 2
}
